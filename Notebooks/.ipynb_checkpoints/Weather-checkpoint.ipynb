{
 "cells": [
  {
   "cell_type": "code",
   "execution_count": 1,
   "id": "d27a8a5a",
   "metadata": {},
   "outputs": [],
   "source": [
    "import pandas as pd\n",
    "from scipy import stats\n",
    "import seaborn as sns"
   ]
  },
  {
   "cell_type": "code",
   "execution_count": 2,
   "id": "6c7ae1bf",
   "metadata": {},
   "outputs": [],
   "source": [
    "import warnings\n",
    "warnings.filterwarnings('ignore')"
   ]
  },
  {
   "cell_type": "code",
   "execution_count": 3,
   "id": "9aa59298",
   "metadata": {},
   "outputs": [],
   "source": [
    "Wsum = pd.read_csv('../Datasets/Weather/Weather_summary.csv')"
   ]
  },
  {
   "cell_type": "code",
   "execution_count": 4,
   "id": "1a1d0109",
   "metadata": {},
   "outputs": [
    {
     "data": {
      "text/html": [
       "<div>\n",
       "<style scoped>\n",
       "    .dataframe tbody tr th:only-of-type {\n",
       "        vertical-align: middle;\n",
       "    }\n",
       "\n",
       "    .dataframe tbody tr th {\n",
       "        vertical-align: top;\n",
       "    }\n",
       "\n",
       "    .dataframe thead th {\n",
       "        text-align: right;\n",
       "    }\n",
       "</style>\n",
       "<table border=\"1\" class=\"dataframe\">\n",
       "  <thead>\n",
       "    <tr style=\"text-align: right;\">\n",
       "      <th></th>\n",
       "      <th>STA</th>\n",
       "      <th>Date</th>\n",
       "      <th>Precip</th>\n",
       "      <th>WindGustSpd</th>\n",
       "      <th>MaxTemp</th>\n",
       "      <th>MinTemp</th>\n",
       "      <th>MeanTemp</th>\n",
       "      <th>Snowfall</th>\n",
       "      <th>PoorWeather</th>\n",
       "      <th>YR</th>\n",
       "      <th>...</th>\n",
       "      <th>FB</th>\n",
       "      <th>FTI</th>\n",
       "      <th>ITH</th>\n",
       "      <th>PGT</th>\n",
       "      <th>TSHDSBRSGF</th>\n",
       "      <th>SD3</th>\n",
       "      <th>RHX</th>\n",
       "      <th>RHN</th>\n",
       "      <th>RVG</th>\n",
       "      <th>WTE</th>\n",
       "    </tr>\n",
       "  </thead>\n",
       "  <tbody>\n",
       "    <tr>\n",
       "      <th>0</th>\n",
       "      <td>10001</td>\n",
       "      <td>1942-7-1</td>\n",
       "      <td>1.016</td>\n",
       "      <td>NaN</td>\n",
       "      <td>25.555556</td>\n",
       "      <td>22.222222</td>\n",
       "      <td>23.888889</td>\n",
       "      <td>0.0</td>\n",
       "      <td>NaN</td>\n",
       "      <td>42</td>\n",
       "      <td>...</td>\n",
       "      <td>NaN</td>\n",
       "      <td>NaN</td>\n",
       "      <td>NaN</td>\n",
       "      <td>NaN</td>\n",
       "      <td>NaN</td>\n",
       "      <td>NaN</td>\n",
       "      <td>NaN</td>\n",
       "      <td>NaN</td>\n",
       "      <td>NaN</td>\n",
       "      <td>NaN</td>\n",
       "    </tr>\n",
       "    <tr>\n",
       "      <th>1</th>\n",
       "      <td>10001</td>\n",
       "      <td>1942-7-2</td>\n",
       "      <td>0</td>\n",
       "      <td>NaN</td>\n",
       "      <td>28.888889</td>\n",
       "      <td>21.666667</td>\n",
       "      <td>25.555556</td>\n",
       "      <td>0.0</td>\n",
       "      <td>NaN</td>\n",
       "      <td>42</td>\n",
       "      <td>...</td>\n",
       "      <td>NaN</td>\n",
       "      <td>NaN</td>\n",
       "      <td>NaN</td>\n",
       "      <td>NaN</td>\n",
       "      <td>NaN</td>\n",
       "      <td>NaN</td>\n",
       "      <td>NaN</td>\n",
       "      <td>NaN</td>\n",
       "      <td>NaN</td>\n",
       "      <td>NaN</td>\n",
       "    </tr>\n",
       "    <tr>\n",
       "      <th>2</th>\n",
       "      <td>10001</td>\n",
       "      <td>1942-7-3</td>\n",
       "      <td>2.54</td>\n",
       "      <td>NaN</td>\n",
       "      <td>26.111111</td>\n",
       "      <td>22.222222</td>\n",
       "      <td>24.444444</td>\n",
       "      <td>0.0</td>\n",
       "      <td>NaN</td>\n",
       "      <td>42</td>\n",
       "      <td>...</td>\n",
       "      <td>NaN</td>\n",
       "      <td>NaN</td>\n",
       "      <td>NaN</td>\n",
       "      <td>NaN</td>\n",
       "      <td>NaN</td>\n",
       "      <td>NaN</td>\n",
       "      <td>NaN</td>\n",
       "      <td>NaN</td>\n",
       "      <td>NaN</td>\n",
       "      <td>NaN</td>\n",
       "    </tr>\n",
       "    <tr>\n",
       "      <th>3</th>\n",
       "      <td>10001</td>\n",
       "      <td>1942-7-4</td>\n",
       "      <td>2.54</td>\n",
       "      <td>NaN</td>\n",
       "      <td>26.666667</td>\n",
       "      <td>22.222222</td>\n",
       "      <td>24.444444</td>\n",
       "      <td>0.0</td>\n",
       "      <td>NaN</td>\n",
       "      <td>42</td>\n",
       "      <td>...</td>\n",
       "      <td>NaN</td>\n",
       "      <td>NaN</td>\n",
       "      <td>NaN</td>\n",
       "      <td>NaN</td>\n",
       "      <td>NaN</td>\n",
       "      <td>NaN</td>\n",
       "      <td>NaN</td>\n",
       "      <td>NaN</td>\n",
       "      <td>NaN</td>\n",
       "      <td>NaN</td>\n",
       "    </tr>\n",
       "    <tr>\n",
       "      <th>4</th>\n",
       "      <td>10001</td>\n",
       "      <td>1942-7-5</td>\n",
       "      <td>0</td>\n",
       "      <td>NaN</td>\n",
       "      <td>26.666667</td>\n",
       "      <td>21.666667</td>\n",
       "      <td>24.444444</td>\n",
       "      <td>0.0</td>\n",
       "      <td>NaN</td>\n",
       "      <td>42</td>\n",
       "      <td>...</td>\n",
       "      <td>NaN</td>\n",
       "      <td>NaN</td>\n",
       "      <td>NaN</td>\n",
       "      <td>NaN</td>\n",
       "      <td>NaN</td>\n",
       "      <td>NaN</td>\n",
       "      <td>NaN</td>\n",
       "      <td>NaN</td>\n",
       "      <td>NaN</td>\n",
       "      <td>NaN</td>\n",
       "    </tr>\n",
       "    <tr>\n",
       "      <th>...</th>\n",
       "      <td>...</td>\n",
       "      <td>...</td>\n",
       "      <td>...</td>\n",
       "      <td>...</td>\n",
       "      <td>...</td>\n",
       "      <td>...</td>\n",
       "      <td>...</td>\n",
       "      <td>...</td>\n",
       "      <td>...</td>\n",
       "      <td>...</td>\n",
       "      <td>...</td>\n",
       "      <td>...</td>\n",
       "      <td>...</td>\n",
       "      <td>...</td>\n",
       "      <td>...</td>\n",
       "      <td>...</td>\n",
       "      <td>...</td>\n",
       "      <td>...</td>\n",
       "      <td>...</td>\n",
       "      <td>...</td>\n",
       "      <td>...</td>\n",
       "    </tr>\n",
       "    <tr>\n",
       "      <th>119035</th>\n",
       "      <td>82506</td>\n",
       "      <td>1945-12-27</td>\n",
       "      <td>0</td>\n",
       "      <td>NaN</td>\n",
       "      <td>28.333333</td>\n",
       "      <td>18.333333</td>\n",
       "      <td>23.333333</td>\n",
       "      <td>0.0</td>\n",
       "      <td>NaN</td>\n",
       "      <td>45</td>\n",
       "      <td>...</td>\n",
       "      <td>NaN</td>\n",
       "      <td>NaN</td>\n",
       "      <td>NaN</td>\n",
       "      <td>NaN</td>\n",
       "      <td>NaN</td>\n",
       "      <td>NaN</td>\n",
       "      <td>NaN</td>\n",
       "      <td>NaN</td>\n",
       "      <td>NaN</td>\n",
       "      <td>NaN</td>\n",
       "    </tr>\n",
       "    <tr>\n",
       "      <th>119036</th>\n",
       "      <td>82506</td>\n",
       "      <td>1945-12-28</td>\n",
       "      <td>9.906</td>\n",
       "      <td>NaN</td>\n",
       "      <td>29.444444</td>\n",
       "      <td>18.333333</td>\n",
       "      <td>23.888889</td>\n",
       "      <td>0.0</td>\n",
       "      <td>1.0</td>\n",
       "      <td>45</td>\n",
       "      <td>...</td>\n",
       "      <td>NaN</td>\n",
       "      <td>NaN</td>\n",
       "      <td>NaN</td>\n",
       "      <td>NaN</td>\n",
       "      <td>1.0</td>\n",
       "      <td>NaN</td>\n",
       "      <td>NaN</td>\n",
       "      <td>NaN</td>\n",
       "      <td>NaN</td>\n",
       "      <td>NaN</td>\n",
       "    </tr>\n",
       "    <tr>\n",
       "      <th>119037</th>\n",
       "      <td>82506</td>\n",
       "      <td>1945-12-29</td>\n",
       "      <td>0</td>\n",
       "      <td>NaN</td>\n",
       "      <td>28.333333</td>\n",
       "      <td>18.333333</td>\n",
       "      <td>23.333333</td>\n",
       "      <td>0.0</td>\n",
       "      <td>1.0</td>\n",
       "      <td>45</td>\n",
       "      <td>...</td>\n",
       "      <td>NaN</td>\n",
       "      <td>NaN</td>\n",
       "      <td>NaN</td>\n",
       "      <td>NaN</td>\n",
       "      <td>1.0</td>\n",
       "      <td>NaN</td>\n",
       "      <td>NaN</td>\n",
       "      <td>NaN</td>\n",
       "      <td>NaN</td>\n",
       "      <td>NaN</td>\n",
       "    </tr>\n",
       "    <tr>\n",
       "      <th>119038</th>\n",
       "      <td>82506</td>\n",
       "      <td>1945-12-30</td>\n",
       "      <td>0</td>\n",
       "      <td>NaN</td>\n",
       "      <td>28.333333</td>\n",
       "      <td>18.333333</td>\n",
       "      <td>23.333333</td>\n",
       "      <td>0.0</td>\n",
       "      <td>NaN</td>\n",
       "      <td>45</td>\n",
       "      <td>...</td>\n",
       "      <td>NaN</td>\n",
       "      <td>NaN</td>\n",
       "      <td>NaN</td>\n",
       "      <td>NaN</td>\n",
       "      <td>NaN</td>\n",
       "      <td>NaN</td>\n",
       "      <td>NaN</td>\n",
       "      <td>NaN</td>\n",
       "      <td>NaN</td>\n",
       "      <td>NaN</td>\n",
       "    </tr>\n",
       "    <tr>\n",
       "      <th>119039</th>\n",
       "      <td>82506</td>\n",
       "      <td>1945-12-31</td>\n",
       "      <td>0</td>\n",
       "      <td>NaN</td>\n",
       "      <td>29.444444</td>\n",
       "      <td>17.222222</td>\n",
       "      <td>23.333333</td>\n",
       "      <td>0.0</td>\n",
       "      <td>NaN</td>\n",
       "      <td>45</td>\n",
       "      <td>...</td>\n",
       "      <td>NaN</td>\n",
       "      <td>NaN</td>\n",
       "      <td>NaN</td>\n",
       "      <td>NaN</td>\n",
       "      <td>NaN</td>\n",
       "      <td>NaN</td>\n",
       "      <td>NaN</td>\n",
       "      <td>NaN</td>\n",
       "      <td>NaN</td>\n",
       "      <td>NaN</td>\n",
       "    </tr>\n",
       "  </tbody>\n",
       "</table>\n",
       "<p>119040 rows × 31 columns</p>\n",
       "</div>"
      ],
      "text/plain": [
       "          STA        Date Precip  WindGustSpd    MaxTemp    MinTemp  \\\n",
       "0       10001    1942-7-1  1.016          NaN  25.555556  22.222222   \n",
       "1       10001    1942-7-2      0          NaN  28.888889  21.666667   \n",
       "2       10001    1942-7-3   2.54          NaN  26.111111  22.222222   \n",
       "3       10001    1942-7-4   2.54          NaN  26.666667  22.222222   \n",
       "4       10001    1942-7-5      0          NaN  26.666667  21.666667   \n",
       "...       ...         ...    ...          ...        ...        ...   \n",
       "119035  82506  1945-12-27      0          NaN  28.333333  18.333333   \n",
       "119036  82506  1945-12-28  9.906          NaN  29.444444  18.333333   \n",
       "119037  82506  1945-12-29      0          NaN  28.333333  18.333333   \n",
       "119038  82506  1945-12-30      0          NaN  28.333333  18.333333   \n",
       "119039  82506  1945-12-31      0          NaN  29.444444  17.222222   \n",
       "\n",
       "         MeanTemp Snowfall PoorWeather  YR  ...  FB  FTI ITH  PGT  TSHDSBRSGF  \\\n",
       "0       23.888889      0.0         NaN  42  ... NaN  NaN NaN  NaN         NaN   \n",
       "1       25.555556      0.0         NaN  42  ... NaN  NaN NaN  NaN         NaN   \n",
       "2       24.444444      0.0         NaN  42  ... NaN  NaN NaN  NaN         NaN   \n",
       "3       24.444444      0.0         NaN  42  ... NaN  NaN NaN  NaN         NaN   \n",
       "4       24.444444      0.0         NaN  42  ... NaN  NaN NaN  NaN         NaN   \n",
       "...           ...      ...         ...  ..  ...  ..  ...  ..  ...         ...   \n",
       "119035  23.333333      0.0         NaN  45  ... NaN  NaN NaN  NaN         NaN   \n",
       "119036  23.888889      0.0         1.0  45  ... NaN  NaN NaN  NaN         1.0   \n",
       "119037  23.333333      0.0         1.0  45  ... NaN  NaN NaN  NaN         1.0   \n",
       "119038  23.333333      0.0         NaN  45  ... NaN  NaN NaN  NaN         NaN   \n",
       "119039  23.333333      0.0         NaN  45  ... NaN  NaN NaN  NaN         NaN   \n",
       "\n",
       "        SD3  RHX  RHN RVG  WTE  \n",
       "0       NaN  NaN  NaN NaN  NaN  \n",
       "1       NaN  NaN  NaN NaN  NaN  \n",
       "2       NaN  NaN  NaN NaN  NaN  \n",
       "3       NaN  NaN  NaN NaN  NaN  \n",
       "4       NaN  NaN  NaN NaN  NaN  \n",
       "...     ...  ...  ...  ..  ...  \n",
       "119035  NaN  NaN  NaN NaN  NaN  \n",
       "119036  NaN  NaN  NaN NaN  NaN  \n",
       "119037  NaN  NaN  NaN NaN  NaN  \n",
       "119038  NaN  NaN  NaN NaN  NaN  \n",
       "119039  NaN  NaN  NaN NaN  NaN  \n",
       "\n",
       "[119040 rows x 31 columns]"
      ]
     },
     "execution_count": 4,
     "metadata": {},
     "output_type": "execute_result"
    }
   ],
   "source": [
    "Wsum"
   ]
  },
  {
   "cell_type": "code",
   "execution_count": 5,
   "id": "0eb18e5f",
   "metadata": {},
   "outputs": [],
   "source": [
    "Wstat = pd.read_csv('../Datasets/Weather/Weather_stations.csv')"
   ]
  },
  {
   "cell_type": "code",
   "execution_count": 6,
   "id": "248fba68",
   "metadata": {},
   "outputs": [
    {
     "data": {
      "text/html": [
       "<div>\n",
       "<style scoped>\n",
       "    .dataframe tbody tr th:only-of-type {\n",
       "        vertical-align: middle;\n",
       "    }\n",
       "\n",
       "    .dataframe tbody tr th {\n",
       "        vertical-align: top;\n",
       "    }\n",
       "\n",
       "    .dataframe thead th {\n",
       "        text-align: right;\n",
       "    }\n",
       "</style>\n",
       "<table border=\"1\" class=\"dataframe\">\n",
       "  <thead>\n",
       "    <tr style=\"text-align: right;\">\n",
       "      <th></th>\n",
       "      <th>WBAN</th>\n",
       "      <th>NAME</th>\n",
       "      <th>STATE/COUNTRY ID</th>\n",
       "      <th>LAT</th>\n",
       "      <th>LON</th>\n",
       "      <th>ELEV</th>\n",
       "      <th>Latitude</th>\n",
       "      <th>Longitude</th>\n",
       "    </tr>\n",
       "  </thead>\n",
       "  <tbody>\n",
       "    <tr>\n",
       "      <th>0</th>\n",
       "      <td>33013</td>\n",
       "      <td>AIN EL</td>\n",
       "      <td>AL</td>\n",
       "      <td>3623N</td>\n",
       "      <td>00637E</td>\n",
       "      <td>611</td>\n",
       "      <td>36.383333</td>\n",
       "      <td>6.650000</td>\n",
       "    </tr>\n",
       "    <tr>\n",
       "      <th>1</th>\n",
       "      <td>33031</td>\n",
       "      <td>LA SENIA</td>\n",
       "      <td>AL</td>\n",
       "      <td>3537N</td>\n",
       "      <td>00037E</td>\n",
       "      <td>88</td>\n",
       "      <td>35.616667</td>\n",
       "      <td>0.583333</td>\n",
       "    </tr>\n",
       "    <tr>\n",
       "      <th>2</th>\n",
       "      <td>33023</td>\n",
       "      <td>MAISON BLANCHE</td>\n",
       "      <td>AL</td>\n",
       "      <td>3643N</td>\n",
       "      <td>00314E</td>\n",
       "      <td>23</td>\n",
       "      <td>36.716667</td>\n",
       "      <td>3.216667</td>\n",
       "    </tr>\n",
       "    <tr>\n",
       "      <th>3</th>\n",
       "      <td>33044</td>\n",
       "      <td>TELERGMA</td>\n",
       "      <td>AL</td>\n",
       "      <td>3607N</td>\n",
       "      <td>00621E</td>\n",
       "      <td>754</td>\n",
       "      <td>36.116667</td>\n",
       "      <td>6.416667</td>\n",
       "    </tr>\n",
       "    <tr>\n",
       "      <th>4</th>\n",
       "      <td>12001</td>\n",
       "      <td>TINDOUF</td>\n",
       "      <td>AL</td>\n",
       "      <td>2741N</td>\n",
       "      <td>00809W</td>\n",
       "      <td>443</td>\n",
       "      <td>27.683333</td>\n",
       "      <td>-8.083333</td>\n",
       "    </tr>\n",
       "    <tr>\n",
       "      <th>...</th>\n",
       "      <td>...</td>\n",
       "      <td>...</td>\n",
       "      <td>...</td>\n",
       "      <td>...</td>\n",
       "      <td>...</td>\n",
       "      <td>...</td>\n",
       "      <td>...</td>\n",
       "      <td>...</td>\n",
       "    </tr>\n",
       "    <tr>\n",
       "      <th>156</th>\n",
       "      <td>33109</td>\n",
       "      <td>EL AQUINA</td>\n",
       "      <td>TS</td>\n",
       "      <td>3651N</td>\n",
       "      <td>01015E</td>\n",
       "      <td>4</td>\n",
       "      <td>36.850000</td>\n",
       "      <td>10.016667</td>\n",
       "    </tr>\n",
       "    <tr>\n",
       "      <th>157</th>\n",
       "      <td>33121</td>\n",
       "      <td>EL DJEM</td>\n",
       "      <td>TS</td>\n",
       "      <td>3520N</td>\n",
       "      <td>01040E</td>\n",
       "      <td>9999</td>\n",
       "      <td>35.333333</td>\n",
       "      <td>10.066667</td>\n",
       "    </tr>\n",
       "    <tr>\n",
       "      <th>158</th>\n",
       "      <td>33003</td>\n",
       "      <td>SISI AHMED</td>\n",
       "      <td>TS</td>\n",
       "      <td>3712N</td>\n",
       "      <td>00950E</td>\n",
       "      <td>4</td>\n",
       "      <td>37.200000</td>\n",
       "      <td>9.083333</td>\n",
       "    </tr>\n",
       "    <tr>\n",
       "      <th>159</th>\n",
       "      <td>33307</td>\n",
       "      <td>ADANA</td>\n",
       "      <td>TU</td>\n",
       "      <td>3659N</td>\n",
       "      <td>03518E</td>\n",
       "      <td>20</td>\n",
       "      <td>36.983333</td>\n",
       "      <td>35.016667</td>\n",
       "    </tr>\n",
       "    <tr>\n",
       "      <th>160</th>\n",
       "      <td>15027</td>\n",
       "      <td>WARRINGTON</td>\n",
       "      <td>UK</td>\n",
       "      <td>5323N</td>\n",
       "      <td>00239W</td>\n",
       "      <td>27</td>\n",
       "      <td>53.383333</td>\n",
       "      <td>-2.050000</td>\n",
       "    </tr>\n",
       "  </tbody>\n",
       "</table>\n",
       "<p>161 rows × 8 columns</p>\n",
       "</div>"
      ],
      "text/plain": [
       "      WBAN            NAME STATE/COUNTRY ID    LAT     LON  ELEV   Latitude  \\\n",
       "0    33013          AIN EL               AL  3623N  00637E   611  36.383333   \n",
       "1    33031        LA SENIA               AL  3537N  00037E    88  35.616667   \n",
       "2    33023  MAISON BLANCHE               AL  3643N  00314E    23  36.716667   \n",
       "3    33044        TELERGMA               AL  3607N  00621E   754  36.116667   \n",
       "4    12001         TINDOUF               AL  2741N  00809W   443  27.683333   \n",
       "..     ...             ...              ...    ...     ...   ...        ...   \n",
       "156  33109       EL AQUINA               TS  3651N  01015E     4  36.850000   \n",
       "157  33121         EL DJEM               TS  3520N  01040E  9999  35.333333   \n",
       "158  33003      SISI AHMED               TS  3712N  00950E     4  37.200000   \n",
       "159  33307           ADANA               TU  3659N  03518E    20  36.983333   \n",
       "160  15027      WARRINGTON               UK  5323N  00239W    27  53.383333   \n",
       "\n",
       "     Longitude  \n",
       "0     6.650000  \n",
       "1     0.583333  \n",
       "2     3.216667  \n",
       "3     6.416667  \n",
       "4    -8.083333  \n",
       "..         ...  \n",
       "156  10.016667  \n",
       "157  10.066667  \n",
       "158   9.083333  \n",
       "159  35.016667  \n",
       "160  -2.050000  \n",
       "\n",
       "[161 rows x 8 columns]"
      ]
     },
     "execution_count": 6,
     "metadata": {},
     "output_type": "execute_result"
    }
   ],
   "source": [
    "Wstat"
   ]
  },
  {
   "cell_type": "code",
   "execution_count": 7,
   "id": "b4ab408d",
   "metadata": {},
   "outputs": [
    {
     "data": {
      "text/html": [
       "<div>\n",
       "<style scoped>\n",
       "    .dataframe tbody tr th:only-of-type {\n",
       "        vertical-align: middle;\n",
       "    }\n",
       "\n",
       "    .dataframe tbody tr th {\n",
       "        vertical-align: top;\n",
       "    }\n",
       "\n",
       "    .dataframe thead th {\n",
       "        text-align: right;\n",
       "    }\n",
       "</style>\n",
       "<table border=\"1\" class=\"dataframe\">\n",
       "  <thead>\n",
       "    <tr style=\"text-align: right;\">\n",
       "      <th></th>\n",
       "      <th>STA</th>\n",
       "      <th>Date</th>\n",
       "      <th>Precip</th>\n",
       "      <th>WindGustSpd</th>\n",
       "      <th>MaxTemp</th>\n",
       "      <th>MinTemp</th>\n",
       "      <th>MeanTemp</th>\n",
       "      <th>Snowfall</th>\n",
       "      <th>PoorWeather</th>\n",
       "      <th>YR</th>\n",
       "      <th>...</th>\n",
       "      <th>FB</th>\n",
       "      <th>FTI</th>\n",
       "      <th>ITH</th>\n",
       "      <th>PGT</th>\n",
       "      <th>TSHDSBRSGF</th>\n",
       "      <th>SD3</th>\n",
       "      <th>RHX</th>\n",
       "      <th>RHN</th>\n",
       "      <th>RVG</th>\n",
       "      <th>WTE</th>\n",
       "    </tr>\n",
       "  </thead>\n",
       "  <tbody>\n",
       "    <tr>\n",
       "      <th>0</th>\n",
       "      <td>10001</td>\n",
       "      <td>1942-7-1</td>\n",
       "      <td>1.016</td>\n",
       "      <td>NaN</td>\n",
       "      <td>25.555556</td>\n",
       "      <td>22.222222</td>\n",
       "      <td>23.888889</td>\n",
       "      <td>0.0</td>\n",
       "      <td>NaN</td>\n",
       "      <td>42</td>\n",
       "      <td>...</td>\n",
       "      <td>NaN</td>\n",
       "      <td>NaN</td>\n",
       "      <td>NaN</td>\n",
       "      <td>NaN</td>\n",
       "      <td>NaN</td>\n",
       "      <td>NaN</td>\n",
       "      <td>NaN</td>\n",
       "      <td>NaN</td>\n",
       "      <td>NaN</td>\n",
       "      <td>NaN</td>\n",
       "    </tr>\n",
       "    <tr>\n",
       "      <th>1</th>\n",
       "      <td>10001</td>\n",
       "      <td>1942-7-2</td>\n",
       "      <td>0</td>\n",
       "      <td>NaN</td>\n",
       "      <td>28.888889</td>\n",
       "      <td>21.666667</td>\n",
       "      <td>25.555556</td>\n",
       "      <td>0.0</td>\n",
       "      <td>NaN</td>\n",
       "      <td>42</td>\n",
       "      <td>...</td>\n",
       "      <td>NaN</td>\n",
       "      <td>NaN</td>\n",
       "      <td>NaN</td>\n",
       "      <td>NaN</td>\n",
       "      <td>NaN</td>\n",
       "      <td>NaN</td>\n",
       "      <td>NaN</td>\n",
       "      <td>NaN</td>\n",
       "      <td>NaN</td>\n",
       "      <td>NaN</td>\n",
       "    </tr>\n",
       "    <tr>\n",
       "      <th>2</th>\n",
       "      <td>10001</td>\n",
       "      <td>1942-7-3</td>\n",
       "      <td>2.54</td>\n",
       "      <td>NaN</td>\n",
       "      <td>26.111111</td>\n",
       "      <td>22.222222</td>\n",
       "      <td>24.444444</td>\n",
       "      <td>0.0</td>\n",
       "      <td>NaN</td>\n",
       "      <td>42</td>\n",
       "      <td>...</td>\n",
       "      <td>NaN</td>\n",
       "      <td>NaN</td>\n",
       "      <td>NaN</td>\n",
       "      <td>NaN</td>\n",
       "      <td>NaN</td>\n",
       "      <td>NaN</td>\n",
       "      <td>NaN</td>\n",
       "      <td>NaN</td>\n",
       "      <td>NaN</td>\n",
       "      <td>NaN</td>\n",
       "    </tr>\n",
       "    <tr>\n",
       "      <th>3</th>\n",
       "      <td>10001</td>\n",
       "      <td>1942-7-4</td>\n",
       "      <td>2.54</td>\n",
       "      <td>NaN</td>\n",
       "      <td>26.666667</td>\n",
       "      <td>22.222222</td>\n",
       "      <td>24.444444</td>\n",
       "      <td>0.0</td>\n",
       "      <td>NaN</td>\n",
       "      <td>42</td>\n",
       "      <td>...</td>\n",
       "      <td>NaN</td>\n",
       "      <td>NaN</td>\n",
       "      <td>NaN</td>\n",
       "      <td>NaN</td>\n",
       "      <td>NaN</td>\n",
       "      <td>NaN</td>\n",
       "      <td>NaN</td>\n",
       "      <td>NaN</td>\n",
       "      <td>NaN</td>\n",
       "      <td>NaN</td>\n",
       "    </tr>\n",
       "    <tr>\n",
       "      <th>4</th>\n",
       "      <td>10001</td>\n",
       "      <td>1942-7-5</td>\n",
       "      <td>0</td>\n",
       "      <td>NaN</td>\n",
       "      <td>26.666667</td>\n",
       "      <td>21.666667</td>\n",
       "      <td>24.444444</td>\n",
       "      <td>0.0</td>\n",
       "      <td>NaN</td>\n",
       "      <td>42</td>\n",
       "      <td>...</td>\n",
       "      <td>NaN</td>\n",
       "      <td>NaN</td>\n",
       "      <td>NaN</td>\n",
       "      <td>NaN</td>\n",
       "      <td>NaN</td>\n",
       "      <td>NaN</td>\n",
       "      <td>NaN</td>\n",
       "      <td>NaN</td>\n",
       "      <td>NaN</td>\n",
       "      <td>NaN</td>\n",
       "    </tr>\n",
       "  </tbody>\n",
       "</table>\n",
       "<p>5 rows × 31 columns</p>\n",
       "</div>"
      ],
      "text/plain": [
       "     STA      Date Precip  WindGustSpd    MaxTemp    MinTemp   MeanTemp  \\\n",
       "0  10001  1942-7-1  1.016          NaN  25.555556  22.222222  23.888889   \n",
       "1  10001  1942-7-2      0          NaN  28.888889  21.666667  25.555556   \n",
       "2  10001  1942-7-3   2.54          NaN  26.111111  22.222222  24.444444   \n",
       "3  10001  1942-7-4   2.54          NaN  26.666667  22.222222  24.444444   \n",
       "4  10001  1942-7-5      0          NaN  26.666667  21.666667  24.444444   \n",
       "\n",
       "  Snowfall PoorWeather  YR  ...  FB  FTI ITH  PGT  TSHDSBRSGF  SD3  RHX  RHN  \\\n",
       "0      0.0         NaN  42  ... NaN  NaN NaN  NaN         NaN  NaN  NaN  NaN   \n",
       "1      0.0         NaN  42  ... NaN  NaN NaN  NaN         NaN  NaN  NaN  NaN   \n",
       "2      0.0         NaN  42  ... NaN  NaN NaN  NaN         NaN  NaN  NaN  NaN   \n",
       "3      0.0         NaN  42  ... NaN  NaN NaN  NaN         NaN  NaN  NaN  NaN   \n",
       "4      0.0         NaN  42  ... NaN  NaN NaN  NaN         NaN  NaN  NaN  NaN   \n",
       "\n",
       "  RVG  WTE  \n",
       "0 NaN  NaN  \n",
       "1 NaN  NaN  \n",
       "2 NaN  NaN  \n",
       "3 NaN  NaN  \n",
       "4 NaN  NaN  \n",
       "\n",
       "[5 rows x 31 columns]"
      ]
     },
     "execution_count": 7,
     "metadata": {},
     "output_type": "execute_result"
    }
   ],
   "source": [
    "Wsum.head()"
   ]
  },
  {
   "cell_type": "code",
   "execution_count": 8,
   "id": "78c99276",
   "metadata": {},
   "outputs": [
    {
     "data": {
      "text/plain": [
       "Index(['STA', 'Date', 'Precip', 'WindGustSpd', 'MaxTemp', 'MinTemp',\n",
       "       'MeanTemp', 'Snowfall', 'PoorWeather', 'YR'],\n",
       "      dtype='object')"
      ]
     },
     "execution_count": 8,
     "metadata": {},
     "output_type": "execute_result"
    }
   ],
   "source": [
    "Wsum.columns[:10]"
   ]
  },
  {
   "cell_type": "code",
   "execution_count": 9,
   "id": "f42e9fd6",
   "metadata": {},
   "outputs": [],
   "source": [
    "import datetime"
   ]
  },
  {
   "cell_type": "code",
   "execution_count": 10,
   "id": "2c733e1b",
   "metadata": {},
   "outputs": [],
   "source": [
    "dates = pd.to_datetime(Wsum['Date'])"
   ]
  },
  {
   "cell_type": "code",
   "execution_count": 11,
   "id": "9a111751",
   "metadata": {},
   "outputs": [
    {
     "data": {
      "text/plain": [
       "0        1942-07-01\n",
       "1        1942-07-02\n",
       "2        1942-07-03\n",
       "3        1942-07-04\n",
       "4        1942-07-05\n",
       "            ...    \n",
       "119035   1945-12-27\n",
       "119036   1945-12-28\n",
       "119037   1945-12-29\n",
       "119038   1945-12-30\n",
       "119039   1945-12-31\n",
       "Name: Date, Length: 119040, dtype: datetime64[ns]"
      ]
     },
     "execution_count": 11,
     "metadata": {},
     "output_type": "execute_result"
    }
   ],
   "source": [
    "dates"
   ]
  },
  {
   "cell_type": "code",
   "execution_count": 12,
   "id": "bab56a75",
   "metadata": {},
   "outputs": [],
   "source": [
    "Wsum['Date'] = dates"
   ]
  },
  {
   "cell_type": "code",
   "execution_count": 13,
   "id": "29f2c8f4",
   "metadata": {},
   "outputs": [],
   "source": [
    "months = Wsum['Date'].dt.month "
   ]
  },
  {
   "cell_type": "code",
   "execution_count": 14,
   "id": "232f7ecd",
   "metadata": {},
   "outputs": [
    {
     "data": {
      "text/plain": [
       "0          7\n",
       "1          7\n",
       "2          7\n",
       "3          7\n",
       "4          7\n",
       "          ..\n",
       "119035    12\n",
       "119036    12\n",
       "119037    12\n",
       "119038    12\n",
       "119039    12\n",
       "Name: Date, Length: 119040, dtype: int64"
      ]
     },
     "execution_count": 14,
     "metadata": {},
     "output_type": "execute_result"
    }
   ],
   "source": [
    "months"
   ]
  },
  {
   "cell_type": "code",
   "execution_count": 15,
   "id": "b421d5d2",
   "metadata": {},
   "outputs": [],
   "source": [
    "years = Wsum['Date'].dt.year"
   ]
  },
  {
   "cell_type": "code",
   "execution_count": 16,
   "id": "1e028345",
   "metadata": {},
   "outputs": [],
   "source": [
    "Wsum['Month'] = months\n",
    "Wsum['Year'] = years"
   ]
  },
  {
   "cell_type": "code",
   "execution_count": 17,
   "id": "a4ac4fff",
   "metadata": {},
   "outputs": [
    {
     "data": {
      "text/html": [
       "<div>\n",
       "<style scoped>\n",
       "    .dataframe tbody tr th:only-of-type {\n",
       "        vertical-align: middle;\n",
       "    }\n",
       "\n",
       "    .dataframe tbody tr th {\n",
       "        vertical-align: top;\n",
       "    }\n",
       "\n",
       "    .dataframe thead th {\n",
       "        text-align: right;\n",
       "    }\n",
       "</style>\n",
       "<table border=\"1\" class=\"dataframe\">\n",
       "  <thead>\n",
       "    <tr style=\"text-align: right;\">\n",
       "      <th></th>\n",
       "      <th>Month</th>\n",
       "      <th>Year</th>\n",
       "    </tr>\n",
       "  </thead>\n",
       "  <tbody>\n",
       "    <tr>\n",
       "      <th>0</th>\n",
       "      <td>7</td>\n",
       "      <td>1942</td>\n",
       "    </tr>\n",
       "    <tr>\n",
       "      <th>1</th>\n",
       "      <td>7</td>\n",
       "      <td>1942</td>\n",
       "    </tr>\n",
       "    <tr>\n",
       "      <th>2</th>\n",
       "      <td>7</td>\n",
       "      <td>1942</td>\n",
       "    </tr>\n",
       "    <tr>\n",
       "      <th>3</th>\n",
       "      <td>7</td>\n",
       "      <td>1942</td>\n",
       "    </tr>\n",
       "    <tr>\n",
       "      <th>4</th>\n",
       "      <td>7</td>\n",
       "      <td>1942</td>\n",
       "    </tr>\n",
       "    <tr>\n",
       "      <th>...</th>\n",
       "      <td>...</td>\n",
       "      <td>...</td>\n",
       "    </tr>\n",
       "    <tr>\n",
       "      <th>119035</th>\n",
       "      <td>12</td>\n",
       "      <td>1945</td>\n",
       "    </tr>\n",
       "    <tr>\n",
       "      <th>119036</th>\n",
       "      <td>12</td>\n",
       "      <td>1945</td>\n",
       "    </tr>\n",
       "    <tr>\n",
       "      <th>119037</th>\n",
       "      <td>12</td>\n",
       "      <td>1945</td>\n",
       "    </tr>\n",
       "    <tr>\n",
       "      <th>119038</th>\n",
       "      <td>12</td>\n",
       "      <td>1945</td>\n",
       "    </tr>\n",
       "    <tr>\n",
       "      <th>119039</th>\n",
       "      <td>12</td>\n",
       "      <td>1945</td>\n",
       "    </tr>\n",
       "  </tbody>\n",
       "</table>\n",
       "<p>119040 rows × 2 columns</p>\n",
       "</div>"
      ],
      "text/plain": [
       "        Month  Year\n",
       "0           7  1942\n",
       "1           7  1942\n",
       "2           7  1942\n",
       "3           7  1942\n",
       "4           7  1942\n",
       "...       ...   ...\n",
       "119035     12  1945\n",
       "119036     12  1945\n",
       "119037     12  1945\n",
       "119038     12  1945\n",
       "119039     12  1945\n",
       "\n",
       "[119040 rows x 2 columns]"
      ]
     },
     "execution_count": 17,
     "metadata": {},
     "output_type": "execute_result"
    }
   ],
   "source": [
    "Wsum[['Month', 'Year']]"
   ]
  },
  {
   "cell_type": "code",
   "execution_count": 18,
   "id": "fe5a407f",
   "metadata": {},
   "outputs": [
    {
     "data": {
      "text/plain": [
       "Index(['STA', 'Date', 'Precip', 'WindGustSpd', 'MaxTemp', 'MinTemp',\n",
       "       'MeanTemp', 'Snowfall', 'PoorWeather', 'YR'],\n",
       "      dtype='object')"
      ]
     },
     "execution_count": 18,
     "metadata": {},
     "output_type": "execute_result"
    }
   ],
   "source": [
    "Wsum.columns[:10]"
   ]
  },
  {
   "cell_type": "code",
   "execution_count": 19,
   "id": "b5bb329b",
   "metadata": {},
   "outputs": [
    {
     "data": {
      "text/plain": [
       "STA                 0\n",
       "Date                0\n",
       "Precip              0\n",
       "WindGustSpd    118508\n",
       "MaxTemp             0\n",
       "MinTemp             0\n",
       "MeanTemp            0\n",
       "Snowfall         1163\n",
       "PoorWeather     84803\n",
       "YR                  0\n",
       "MO                  0\n",
       "DA                  0\n",
       "PRCP             1932\n",
       "DR             118507\n",
       "SPD            118508\n",
       "MAX               474\n",
       "MIN               468\n",
       "MEA               498\n",
       "SNF              1163\n",
       "SND            113477\n",
       "FT             119040\n",
       "FB             119040\n",
       "FTI            119040\n",
       "ITH            119040\n",
       "PGT            118515\n",
       "TSHDSBRSGF      84803\n",
       "SD3            119040\n",
       "RHX            119040\n",
       "RHN            119040\n",
       "RVG            119040\n",
       "WTE            119040\n",
       "Month               0\n",
       "Year                0\n",
       "dtype: int64"
      ]
     },
     "execution_count": 19,
     "metadata": {},
     "output_type": "execute_result"
    }
   ],
   "source": [
    "Wsum.isna().sum()"
   ]
  },
  {
   "cell_type": "code",
   "execution_count": 20,
   "id": "ffed3511",
   "metadata": {},
   "outputs": [],
   "source": [
    "Wsum.drop(['RVG', 'RHX', 'RHN', 'WTE', 'SD3', 'PGT', 'SND', 'FT', 'FB', 'FTI'], axis=1, inplace=True)"
   ]
  },
  {
   "cell_type": "code",
   "execution_count": 21,
   "id": "35777843",
   "metadata": {},
   "outputs": [],
   "source": [
    "Wsum.drop(['ITH', 'TSHDSBRSGF', 'DR', 'SPD', 'WindGustSpd'],axis=1, inplace=True)"
   ]
  },
  {
   "cell_type": "code",
   "execution_count": 22,
   "id": "db3f0f88",
   "metadata": {},
   "outputs": [
    {
     "data": {
      "text/plain": [
       "STA                0\n",
       "Date               0\n",
       "Precip             0\n",
       "MaxTemp            0\n",
       "MinTemp            0\n",
       "MeanTemp           0\n",
       "Snowfall        1163\n",
       "PoorWeather    84803\n",
       "YR                 0\n",
       "MO                 0\n",
       "DA                 0\n",
       "PRCP            1932\n",
       "MAX              474\n",
       "MIN              468\n",
       "MEA              498\n",
       "SNF             1163\n",
       "Month              0\n",
       "Year               0\n",
       "dtype: int64"
      ]
     },
     "execution_count": 22,
     "metadata": {},
     "output_type": "execute_result"
    }
   ],
   "source": [
    "Wsum.isna().sum()"
   ]
  },
  {
   "cell_type": "code",
   "execution_count": 23,
   "id": "b4e418e1",
   "metadata": {},
   "outputs": [
    {
     "data": {
      "text/plain": [
       "array([nan, '1', '1     1', '1 1', '1     1  1', '1  1', '1        1',\n",
       "       '0', '1   1 1', '1    1', '1     0', '1000', '1001', '100000',\n",
       "       '1000001000', '101000', '101001', '1000001001', '1000101001',\n",
       "       '100001', '1000000000', '1000101000', '1010001000', '1000100000',\n",
       "       '1000100001', '1010001001', '10001001', '11', '11 1', '11    1',\n",
       "       '1100000', '1 1  1', '1 0  1', '1 0', '1   1 1  1', '1000000',\n",
       "       '1101000', '1101001', '1   1', 1.0], dtype=object)"
      ]
     },
     "execution_count": 23,
     "metadata": {},
     "output_type": "execute_result"
    }
   ],
   "source": [
    "Wsum['PoorWeather'].unique()"
   ]
  },
  {
   "cell_type": "code",
   "execution_count": 24,
   "id": "83fb2d7d",
   "metadata": {},
   "outputs": [
    {
     "data": {
      "text/plain": [
       "array(['0.04', '0', '0.1', 'T', '0.14', '0.02', '0.01', '0.07', '0.13',\n",
       "       '0.03', '0.22', '0.2', '0.08', '1.01', '1.58', '0.75', '0.94',\n",
       "       '0.16', '0.48', '0.11', '1.31', '0.76', '1.88', '0.25', '0.12',\n",
       "       '0.33', '0.4', '1.07', '1.2', '1.78', '0.42', '0.61', '2.27',\n",
       "       '2.29', '0.45', '1.23', '0.7', '1.06', '1.05', '0.26', '0.21',\n",
       "       '0.19', '0.3', '0.34', '0.31', '0.49', '3.58', '0.53', '0.47',\n",
       "       '0.23', '0.17', '0.24', '0.36', '0.18', '0.39', '0.38', '0.06',\n",
       "       '0.55', '0.68', '1.32', '0.05', '0.54', '0.32', '0.88', '1.54',\n",
       "       '1.42', '3.86', '0.15', '0.59', '3.08', '5.76', '0.58', '0.86',\n",
       "       '4.76', '1.66', '0.92', '0.83', '1.77', '0.09', nan, '1.97',\n",
       "       '0.69', '2.01', '0.28', '1', '0.29', '0.64', '1.84', '0.35',\n",
       "       '0.97', '0.46', '0.67', '5.7', '0.71', '2', '4.19', '1.44', '2.1',\n",
       "       '1.37', '0.51', '1.04', '3.37', '1.87', '0.5', '0.44', '2.33',\n",
       "       '1.33', '1.61', '1.11', '0.98', '0.57', '2.82', '4.02', '1.24',\n",
       "       '1.43', '1.49', '1.4', '1.25', '1.93', '2.75', '1.45', '0.77',\n",
       "       '5.02', '2.55', '4.14', '0.63', '2.96', '5.65', '2.4', '2.7',\n",
       "       '2.2', '0.93', '4.97', '2.77', '0.27', '0.66', '0.95', '2.08',\n",
       "       '0.99', '2.94', '0.65', '2.56', '2.04', '0.52', '1.19', '1.18',\n",
       "       '8.5', '0.84', '3.03', '1.16', '0.37', '0.62', '1.81', '1.62',\n",
       "       '1.91', '1.3', '0.41', '0.74', '0.56', '2.69', '3.16', '2.79',\n",
       "       '1.41', '0.9', '1.22', '0.82', '1.34', '0.79', '1.08', '2.45',\n",
       "       '1.47', '2.18', '2.9', '0.72', '4.52', '2.22', '10.77', '1.09',\n",
       "       '4.39', '3.99', '4.73', '4.59', '2.61', '1.29', '2.17', '1.21',\n",
       "       '1.82', '2.68', '2.46', '2.86', '8.02', '0.6', '2.41', '1.92',\n",
       "       '0.43', '2.15', '3.22', '1.5', '1.48', '0.73', '1.96', '1.27',\n",
       "       '3.72', '2.67', '1.63', '0.89', '1.71', '1.1', '2.42', '1.02',\n",
       "       '2.13', '2.07', '1.85', '7', '1.14', '4.7', '1.75', '3.36', '3.77',\n",
       "       '3.62', '1.51', '1.56', '3.15', '1.59', '1.39', '3.49', '2.59',\n",
       "       '5.37', '3.07', '4.6', '2.97', '2.74', '1.68', '1.55', '0.81',\n",
       "       '1.57', '1.69', '1.52', '6.12', '5.54', '5.84', '0.78', '2.39',\n",
       "       '3.82', '2.28', '2.87', '2.58', '2.83', '0.85', '0.87', '1.35',\n",
       "       '1.38', '1.7', '1.99', '0.8', '2.78', '2.65', '1.12', '1.26',\n",
       "       '1.89', '3', '1.46', '1.9', '1.73', '3.02', '2.05', '2.06', '4.74',\n",
       "       '3.17', '2.5', '4.96', '4.58', '1.83', '3.01', '1.36', '1.67',\n",
       "       '1.15', '3.2', '0.96', '2.31', '4.26', '6.84', '1.95', '8.87',\n",
       "       '8.12', '6.38', '3.43', '3.47', '4.08', '3.26', '3.69', '1.13',\n",
       "       '3.9', '2.44', '2.02', '4.37', '3.7', '4.23', '0.91', '3.64',\n",
       "       '2.25', '3.31', '1.6', '2.47', '1.64', '1.28', '1.98', '1.03',\n",
       "       '2.12', '2.91', '2.54', '1.53', '3.34', '4.09', '1.65', '2.24',\n",
       "       '3.23', '2.62', '2.37', '2.09', '2.14', '1.8', '1.17', '1.72',\n",
       "       '2.64', '2.76', '2.73', '3.42', '3.39', '2.3', '2.92', '2.71',\n",
       "       '3.85', '1.76', '2.51', '2.21', '2.6', '3.38', '2.53', '3.35',\n",
       "       '4.84', '1.74', '9.12', '3.27', '4.79', '2.23', '2.03', '4.47',\n",
       "       '2.99', '4.03', '2.16', '3.11', '2.98', '3.73', '1.86', '2.93',\n",
       "       '6', '2.81', '3.12', '5.12', '3.84', '3.91', '9.4', '4.05', '3.24',\n",
       "       '3.71', '4.95', '2.34', '4.41', '7.18', '5', '3.48', '8.32',\n",
       "       '3.25', '4.24', '2.89', '4.9', '6.45', '4.25', '2.48', '4.67',\n",
       "       '5.38', '2.19', '3.98', '3.56', '2.26', '3.88', '3.57', '3.76',\n",
       "       '6.28', '4.07', '5.49', '9.25', '5.25', '3.95', '2.49', '2.88',\n",
       "       '3.21', '6.2', '2.52', '3.05', '3.04', '2.35', '2.8', '4.89',\n",
       "       '2.36', '4.11', '9.97', '3.41', '1.94', '3.06', '4.87', '4.2',\n",
       "       '3.83', '1.79', '4.98', '2.11', '4.88', '2.57', '3.65', '3.14',\n",
       "       '6.56', '2.95', '3.75', '2.43', '5.85', '9.8', '3.96', '5.82',\n",
       "       '10.12', '12.1', '7.25', '3.44', '5.31', '8.14', '4.36', '3.13',\n",
       "       '2.66', '3.19', '3.52', '6.47', '4.01', '3.55', '5.3', '2.32',\n",
       "       '3.3', '4.8', '2.72', '3.61', '2.38', '4.15', '5.63', '5.43',\n",
       "       '3.46', '3.5', '4.44', '3.09', '2.84', '7.66', '4.43', '5.28',\n",
       "       '5.07', '3.28', '3.81', '6.64', '3.1', '4.62', '3.18', '4.93',\n",
       "       '7.19', '5.22', '8.26', '4.57', '3.51', '5.1', '3.79', '3.4',\n",
       "       '4.63', '3.29', '3.66', '4.33', '3.63', '5.88', '2.63', '4.81',\n",
       "       '9.18', '7.89', '4.92', '3.54', '5.51', '7.26', '3.6', '3.53',\n",
       "       '3.97', '4', '4.71', '3.87', '3.74', '5.23', '3.32', '5.14',\n",
       "       '3.93', '4.32', '3.59', '3.8', '4.18', '2.85', '4.12', '9.39',\n",
       "       '5.48', '5.21', '4.45', '6.89', '4.91', '5.91', '4.94', '4.72',\n",
       "       '5.27', '6.59', '4.51', '4.54', '3.33', '7.29', '4.13', '4.38',\n",
       "       '6.49', '4.68', '6.6', '6.43', '4.4', '4.1', '7.65', '5.52',\n",
       "       '4.34', '6.03', '6.5', '9.54', '6.09', '4.17', '5.24', '6.34'],\n",
       "      dtype=object)"
      ]
     },
     "execution_count": 24,
     "metadata": {},
     "output_type": "execute_result"
    }
   ],
   "source": [
    "Wsum['PRCP'].unique()"
   ]
  },
  {
   "cell_type": "code",
   "execution_count": 25,
   "id": "0be3c4f8",
   "metadata": {},
   "outputs": [
    {
     "data": {
      "text/plain": [
       "0    0.0\n",
       "Name: Snowfall, dtype: object"
      ]
     },
     "execution_count": 25,
     "metadata": {},
     "output_type": "execute_result"
    }
   ],
   "source": [
    "Wsum['Snowfall'].mode()"
   ]
  },
  {
   "cell_type": "code",
   "execution_count": 26,
   "id": "626b1607",
   "metadata": {},
   "outputs": [],
   "source": [
    "Wsum['Snowfall'].fillna(Wsum['Snowfall'].mode()[0], inplace=True)"
   ]
  },
  {
   "cell_type": "code",
   "execution_count": 27,
   "id": "6e77f8df",
   "metadata": {},
   "outputs": [],
   "source": [
    "Wsum.drop(['PoorWeather'], axis=1, inplace=True)"
   ]
  },
  {
   "cell_type": "code",
   "execution_count": 28,
   "id": "c07ff73d",
   "metadata": {},
   "outputs": [
    {
     "data": {
      "text/plain": [
       "STA            0\n",
       "Date           0\n",
       "Precip         0\n",
       "MaxTemp        0\n",
       "MinTemp        0\n",
       "MeanTemp       0\n",
       "Snowfall       0\n",
       "YR             0\n",
       "MO             0\n",
       "DA             0\n",
       "PRCP        1932\n",
       "MAX          474\n",
       "MIN          468\n",
       "MEA          498\n",
       "SNF         1163\n",
       "Month          0\n",
       "Year           0\n",
       "dtype: int64"
      ]
     },
     "execution_count": 28,
     "metadata": {},
     "output_type": "execute_result"
    }
   ],
   "source": [
    "Wsum.isna().sum()"
   ]
  },
  {
   "cell_type": "code",
   "execution_count": 29,
   "id": "b293eec1",
   "metadata": {},
   "outputs": [
    {
     "data": {
      "text/plain": [
       "0         0.04\n",
       "1            0\n",
       "2          0.1\n",
       "3          0.1\n",
       "4            0\n",
       "          ... \n",
       "119035       0\n",
       "119036    0.39\n",
       "119037       0\n",
       "119038       0\n",
       "119039       0\n",
       "Name: PRCP, Length: 119040, dtype: object"
      ]
     },
     "execution_count": 29,
     "metadata": {},
     "output_type": "execute_result"
    }
   ],
   "source": [
    "Wsum.PRCP"
   ]
  },
  {
   "cell_type": "code",
   "execution_count": 30,
   "id": "59096f82",
   "metadata": {},
   "outputs": [
    {
     "data": {
      "text/plain": [
       "6         T\n",
       "8         T\n",
       "15        T\n",
       "16        T\n",
       "17        T\n",
       "         ..\n",
       "119001    T\n",
       "119006    T\n",
       "119014    T\n",
       "119018    T\n",
       "119031    T\n",
       "Name: PRCP, Length: 16753, dtype: object"
      ]
     },
     "execution_count": 30,
     "metadata": {},
     "output_type": "execute_result"
    }
   ],
   "source": [
    "Wsum[Wsum['PRCP']=='T']['PRCP']"
   ]
  },
  {
   "cell_type": "code",
   "execution_count": 31,
   "id": "8e35aa9e",
   "metadata": {},
   "outputs": [
    {
     "data": {
      "text/plain": [
       "STA            0\n",
       "Date           0\n",
       "Precip         0\n",
       "MaxTemp        0\n",
       "MinTemp        0\n",
       "MeanTemp       0\n",
       "Snowfall       0\n",
       "YR             0\n",
       "MO             0\n",
       "DA             0\n",
       "PRCP        1932\n",
       "MAX          474\n",
       "MIN          468\n",
       "MEA          498\n",
       "SNF         1163\n",
       "Month          0\n",
       "Year           0\n",
       "dtype: int64"
      ]
     },
     "execution_count": 31,
     "metadata": {},
     "output_type": "execute_result"
    }
   ],
   "source": [
    "Wsum.isna().sum()"
   ]
  },
  {
   "cell_type": "code",
   "execution_count": 32,
   "id": "d209c336",
   "metadata": {},
   "outputs": [],
   "source": [
    "Wsum['MAX']=Wsum['MAX'].fillna(Wsum['MAX'].mean())\n",
    "Wsum['MIN']=Wsum['MIN'].fillna(Wsum['MIN'].mean())\n",
    "Wsum['MEA']=Wsum['MEA'].fillna(Wsum['MEA'].mean())"
   ]
  },
  {
   "cell_type": "code",
   "execution_count": 33,
   "id": "03920dd2",
   "metadata": {},
   "outputs": [
    {
     "data": {
      "text/plain": [
       "array([0.0, nan, '0', '0.9', '1.3', '1.2', '0.1', '0.2', '0.4', '0.3',\n",
       "       '0.8', '0.6', '0.7', '0.5', '1', '1.1', '1.7', '1.5', '1.8', '2.1',\n",
       "       '2.3', '2.6', '3', '3.2', '2.9', '2.5', '2', '1.9', '2.4', '2.2',\n",
       "       '1.4', '3.1', '1.6', '3.4', '3.3', '2.7', 'T', 0.4, 0.3, 0.6, 0.1,\n",
       "       0.2, 0.5], dtype=object)"
      ]
     },
     "execution_count": 33,
     "metadata": {},
     "output_type": "execute_result"
    }
   ],
   "source": [
    "Wsum['SNF'].unique()"
   ]
  },
  {
   "cell_type": "code",
   "execution_count": 34,
   "id": "486ea3d9",
   "metadata": {},
   "outputs": [
    {
     "data": {
      "text/plain": [
       "(44,)"
      ]
     },
     "execution_count": 34,
     "metadata": {},
     "output_type": "execute_result"
    }
   ],
   "source": [
    "Wsum[Wsum['SNF']=='T']['SNF'].shape"
   ]
  },
  {
   "cell_type": "code",
   "execution_count": 35,
   "id": "adc78b24",
   "metadata": {},
   "outputs": [],
   "source": [
    "Wsum = Wsum[Wsum['SNF']!='T']"
   ]
  },
  {
   "cell_type": "code",
   "execution_count": 36,
   "id": "65d14741",
   "metadata": {},
   "outputs": [
    {
     "data": {
      "text/plain": [
       "array([0.0, nan, '0', '0.9', '1.3', '1.2', '0.1', '0.2', '0.4', '0.3',\n",
       "       '0.8', '0.6', '0.7', '0.5', '1', '1.1', '1.7', '1.5', '1.8', '2.1',\n",
       "       '2.3', '2.6', '3', '3.2', '2.9', '2.5', '2', '1.9', '2.4', '2.2',\n",
       "       '1.4', '3.1', '1.6', '3.4', '3.3', '2.7', 0.4, 0.3, 0.6, 0.1, 0.2,\n",
       "       0.5], dtype=object)"
      ]
     },
     "execution_count": 36,
     "metadata": {},
     "output_type": "execute_result"
    }
   ],
   "source": [
    "Wsum['SNF'].unique()"
   ]
  },
  {
   "cell_type": "code",
   "execution_count": 37,
   "id": "cee041f4",
   "metadata": {},
   "outputs": [],
   "source": [
    "Wsum['SNF']=Wsum['SNF'].astype(float)"
   ]
  },
  {
   "cell_type": "code",
   "execution_count": 38,
   "id": "1ce0fe8b",
   "metadata": {},
   "outputs": [
    {
     "data": {
      "text/plain": [
       "1163"
      ]
     },
     "execution_count": 38,
     "metadata": {},
     "output_type": "execute_result"
    }
   ],
   "source": [
    "Wsum['SNF'].isna().sum()"
   ]
  },
  {
   "cell_type": "code",
   "execution_count": 39,
   "id": "df762c53",
   "metadata": {},
   "outputs": [
    {
     "data": {
      "text/plain": [
       "0.0"
      ]
     },
     "execution_count": 39,
     "metadata": {},
     "output_type": "execute_result"
    }
   ],
   "source": [
    "Wsum['SNF'].median()"
   ]
  },
  {
   "cell_type": "code",
   "execution_count": 40,
   "id": "96ce9313",
   "metadata": {},
   "outputs": [],
   "source": [
    "Wsum['SNF']=Wsum['SNF'].fillna(0.0)"
   ]
  },
  {
   "cell_type": "code",
   "execution_count": 41,
   "id": "bf036cfb",
   "metadata": {},
   "outputs": [
    {
     "data": {
      "text/plain": [
       "STA            0\n",
       "Date           0\n",
       "Precip         0\n",
       "MaxTemp        0\n",
       "MinTemp        0\n",
       "MeanTemp       0\n",
       "Snowfall       0\n",
       "YR             0\n",
       "MO             0\n",
       "DA             0\n",
       "PRCP        1932\n",
       "MAX            0\n",
       "MIN            0\n",
       "MEA            0\n",
       "SNF            0\n",
       "Month          0\n",
       "Year           0\n",
       "dtype: int64"
      ]
     },
     "execution_count": 41,
     "metadata": {},
     "output_type": "execute_result"
    }
   ],
   "source": [
    "Wsum.isna().sum()"
   ]
  },
  {
   "cell_type": "code",
   "execution_count": 42,
   "id": "24030a7e",
   "metadata": {},
   "outputs": [
    {
     "data": {
      "text/plain": [
       "0.1506661882549934"
      ]
     },
     "execution_count": 42,
     "metadata": {},
     "output_type": "execute_result"
    }
   ],
   "source": [
    "Wsum[Wsum['PRCP']!='T']['PRCP'].astype(float).mean()"
   ]
  },
  {
   "cell_type": "code",
   "execution_count": 43,
   "id": "625d0860",
   "metadata": {},
   "outputs": [],
   "source": [
    "rows_to_replace = Wsum['PRCP'].isin(['T'])"
   ]
  },
  {
   "cell_type": "code",
   "execution_count": 44,
   "id": "6dc04dac",
   "metadata": {},
   "outputs": [],
   "source": [
    "Wsum['PRCP'].loc[rows_to_replace] = 0.15"
   ]
  },
  {
   "cell_type": "code",
   "execution_count": 45,
   "id": "17391197",
   "metadata": {},
   "outputs": [
    {
     "data": {
      "text/plain": [
       "array(['0.04', '0', '0.1', 0.15, '0.14', '0.02', '0.01', '0.07', '0.13',\n",
       "       '0.03', '0.22', '0.2', '0.08', '1.01', '1.58', '0.75', '0.94',\n",
       "       '0.16', '0.48', '0.11', '1.31', '0.76', '1.88', '0.25', '0.12',\n",
       "       '0.33', '0.4', '1.07', '1.2', '1.78', '0.42', '0.61', '2.27',\n",
       "       '2.29', '0.45', '1.23', '0.7', '1.06', '1.05', '0.26', '0.21',\n",
       "       '0.19', '0.3', '0.34', '0.31', '0.49', '3.58', '0.53', '0.47',\n",
       "       '0.23', '0.17', '0.24', '0.36', '0.18', '0.39', '0.38', '0.06',\n",
       "       '0.55', '0.68', '1.32', '0.05', '0.54', '0.32', '0.88', '1.54',\n",
       "       '1.42', '3.86', '0.15', '0.59', '3.08', '5.76', '0.58', '0.86',\n",
       "       '4.76', '1.66', '0.92', '0.83', '1.77', '0.09', nan, '1.97',\n",
       "       '0.69', '2.01', '0.28', '1', '0.29', '0.64', '1.84', '0.35',\n",
       "       '0.97', '0.46', '0.67', '5.7', '0.71', '2', '4.19', '1.44', '2.1',\n",
       "       '1.37', '0.51', '1.04', '3.37', '1.87', '0.5', '0.44', '2.33',\n",
       "       '1.33', '1.61', '1.11', '0.98', '0.57', '2.82', '4.02', '1.24',\n",
       "       '1.43', '1.49', '1.4', '1.25', '1.93', '2.75', '1.45', '0.77',\n",
       "       '5.02', '2.55', '4.14', '0.63', '2.96', '5.65', '2.4', '2.7',\n",
       "       '2.2', '0.93', '4.97', '2.77', '0.27', '0.66', '0.95', '2.08',\n",
       "       '0.99', '2.94', '0.65', '2.56', '2.04', '0.52', '1.19', '1.18',\n",
       "       '8.5', '0.84', '3.03', '1.16', '0.37', '0.62', '1.81', '1.62',\n",
       "       '1.91', '1.3', '0.41', '0.74', '0.56', '2.69', '3.16', '2.79',\n",
       "       '1.41', '0.9', '1.22', '0.82', '1.34', '0.79', '1.08', '2.45',\n",
       "       '1.47', '2.18', '2.9', '0.72', '4.52', '2.22', '10.77', '1.09',\n",
       "       '4.39', '3.99', '4.73', '4.59', '2.61', '1.29', '2.17', '1.21',\n",
       "       '1.82', '2.68', '2.46', '2.86', '8.02', '0.6', '2.41', '1.92',\n",
       "       '0.43', '2.15', '3.22', '1.5', '1.48', '0.73', '1.96', '1.27',\n",
       "       '3.72', '2.67', '1.63', '0.89', '1.71', '1.1', '2.42', '1.02',\n",
       "       '2.13', '2.07', '1.85', '7', '1.14', '4.7', '1.75', '3.36', '3.77',\n",
       "       '3.62', '1.51', '1.56', '3.15', '1.59', '1.39', '3.49', '2.59',\n",
       "       '5.37', '3.07', '4.6', '2.97', '2.74', '1.68', '1.55', '0.81',\n",
       "       '1.57', '1.69', '1.52', '6.12', '5.54', '5.84', '0.78', '2.39',\n",
       "       '3.82', '2.28', '2.87', '2.58', '2.83', '0.85', '0.87', '1.35',\n",
       "       '1.38', '1.7', '1.99', '0.8', '2.78', '2.65', '1.12', '1.26',\n",
       "       '1.89', '3', '1.46', '1.9', '1.73', '3.02', '2.05', '2.06', '4.74',\n",
       "       '3.17', '2.5', '4.96', '4.58', '1.83', '3.01', '1.36', '1.67',\n",
       "       '1.15', '3.2', '0.96', '2.31', '4.26', '6.84', '1.95', '8.87',\n",
       "       '8.12', '6.38', '3.43', '3.47', '4.08', '3.26', '3.69', '1.13',\n",
       "       '3.9', '2.44', '2.02', '4.37', '3.7', '4.23', '0.91', '3.64',\n",
       "       '2.25', '3.31', '1.6', '2.47', '1.64', '1.28', '1.98', '1.03',\n",
       "       '2.12', '2.91', '2.54', '1.53', '3.34', '4.09', '1.65', '2.24',\n",
       "       '3.23', '2.62', '2.37', '2.09', '2.14', '1.8', '1.17', '1.72',\n",
       "       '2.64', '2.76', '2.73', '3.42', '3.39', '2.3', '2.92', '2.71',\n",
       "       '3.85', '1.76', '2.51', '2.21', '2.6', '3.38', '2.53', '3.35',\n",
       "       '4.84', '1.74', '9.12', '3.27', '4.79', '2.23', '2.03', '4.47',\n",
       "       '2.99', '4.03', '2.16', '3.11', '2.98', '3.73', '1.86', '2.93',\n",
       "       '6', '2.81', '3.12', '5.12', '3.84', '3.91', '9.4', '4.05', '3.24',\n",
       "       '3.71', '4.95', '2.34', '4.41', '7.18', '5', '3.48', '8.32',\n",
       "       '3.25', '4.24', '2.89', '4.9', '6.45', '4.25', '2.48', '4.67',\n",
       "       '5.38', '2.19', '3.98', '3.56', '2.26', '3.88', '3.57', '3.76',\n",
       "       '6.28', '4.07', '5.49', '9.25', '5.25', '3.95', '2.49', '2.88',\n",
       "       '3.21', '6.2', '2.52', '3.05', '3.04', '2.35', '2.8', '4.89',\n",
       "       '2.36', '4.11', '9.97', '3.41', '1.94', '3.06', '4.87', '4.2',\n",
       "       '3.83', '1.79', '4.98', '2.11', '4.88', '2.57', '3.65', '3.14',\n",
       "       '6.56', '2.95', '3.75', '2.43', '5.85', '9.8', '3.96', '5.82',\n",
       "       '10.12', '12.1', '7.25', '3.44', '5.31', '8.14', '4.36', '3.13',\n",
       "       '2.66', '3.19', '3.52', '6.47', '4.01', '3.55', '5.3', '2.32',\n",
       "       '3.3', '4.8', '2.72', '3.61', '2.38', '4.15', '5.63', '5.43',\n",
       "       '3.46', '3.5', '4.44', '3.09', '2.84', '7.66', '4.43', '5.28',\n",
       "       '5.07', '3.28', '3.81', '6.64', '3.1', '4.62', '3.18', '4.93',\n",
       "       '7.19', '5.22', '8.26', '4.57', '3.51', '5.1', '3.79', '3.4',\n",
       "       '4.63', '3.29', '3.66', '4.33', '3.63', '5.88', '2.63', '4.81',\n",
       "       '9.18', '7.89', '4.92', '3.54', '5.51', '7.26', '3.6', '3.53',\n",
       "       '3.97', '4', '4.71', '3.87', '3.74', '5.23', '3.32', '5.14',\n",
       "       '3.93', '4.32', '3.59', '3.8', '4.18', '2.85', '4.12', '9.39',\n",
       "       '5.48', '5.21', '4.45', '6.89', '4.91', '5.91', '4.94', '4.72',\n",
       "       '5.27', '6.59', '4.51', '4.54', '3.33', '7.29', '4.13', '4.38',\n",
       "       '6.49', '4.68', '6.6', '6.43', '4.4', '4.1', '7.65', '5.52',\n",
       "       '4.34', '6.03', '6.5', '9.54', '6.09', '4.17', '5.24', '6.34'],\n",
       "      dtype=object)"
      ]
     },
     "execution_count": 45,
     "metadata": {},
     "output_type": "execute_result"
    }
   ],
   "source": [
    "Wsum['PRCP'].unique()"
   ]
  },
  {
   "cell_type": "code",
   "execution_count": null,
   "id": "bbce98f2",
   "metadata": {},
   "outputs": [],
   "source": []
  }
 ],
 "metadata": {
  "kernelspec": {
   "display_name": "Python 3 (ipykernel)",
   "language": "python",
   "name": "python3"
  },
  "language_info": {
   "codemirror_mode": {
    "name": "ipython",
    "version": 3
   },
   "file_extension": ".py",
   "mimetype": "text/x-python",
   "name": "python",
   "nbconvert_exporter": "python",
   "pygments_lexer": "ipython3",
   "version": "3.10.5"
  }
 },
 "nbformat": 4,
 "nbformat_minor": 5
}
