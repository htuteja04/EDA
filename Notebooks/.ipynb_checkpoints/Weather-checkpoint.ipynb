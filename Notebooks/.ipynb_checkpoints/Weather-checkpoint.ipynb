{
 "cells": [
  {
   "cell_type": "code",
   "execution_count": 1,
   "id": "d27a8a5a",
   "metadata": {},
   "outputs": [],
   "source": [
    "import pandas as pd\n",
    "from scipy import stats\n",
    "import seaborn as sns"
   ]
  },
  {
   "cell_type": "code",
   "execution_count": 2,
   "id": "6c7ae1bf",
   "metadata": {},
   "outputs": [],
   "source": [
    "import warnings\n",
    "warnings.filterwarnings('ignore')"
   ]
  },
  {
   "cell_type": "code",
   "execution_count": 3,
   "id": "9aa59298",
   "metadata": {},
   "outputs": [],
   "source": [
    "Wsum = pd.read_csv('../Datasets/Weather/Weather_summary.csv')"
   ]
  },
  {
   "cell_type": "code",
   "execution_count": 57,
   "id": "1a1d0109",
   "metadata": {},
   "outputs": [
    {
     "data": {
      "text/html": [
       "<div>\n",
       "<style scoped>\n",
       "    .dataframe tbody tr th:only-of-type {\n",
       "        vertical-align: middle;\n",
       "    }\n",
       "\n",
       "    .dataframe tbody tr th {\n",
       "        vertical-align: top;\n",
       "    }\n",
       "\n",
       "    .dataframe thead th {\n",
       "        text-align: right;\n",
       "    }\n",
       "</style>\n",
       "<table border=\"1\" class=\"dataframe\">\n",
       "  <thead>\n",
       "    <tr style=\"text-align: right;\">\n",
       "      <th></th>\n",
       "      <th>STA</th>\n",
       "      <th>Date</th>\n",
       "      <th>Precip</th>\n",
       "      <th>MaxTemp</th>\n",
       "      <th>MinTemp</th>\n",
       "      <th>MeanTemp</th>\n",
       "      <th>Snowfall</th>\n",
       "      <th>YR</th>\n",
       "      <th>MO</th>\n",
       "      <th>DA</th>\n",
       "      <th>PRCP</th>\n",
       "      <th>MAX</th>\n",
       "      <th>MIN</th>\n",
       "      <th>MEA</th>\n",
       "      <th>SNF</th>\n",
       "      <th>Month</th>\n",
       "      <th>Year</th>\n",
       "    </tr>\n",
       "  </thead>\n",
       "  <tbody>\n",
       "    <tr>\n",
       "      <th>0</th>\n",
       "      <td>10001</td>\n",
       "      <td>1942-07-01</td>\n",
       "      <td>1.016</td>\n",
       "      <td>25.555556</td>\n",
       "      <td>22.222222</td>\n",
       "      <td>23.888889</td>\n",
       "      <td>0.0</td>\n",
       "      <td>42</td>\n",
       "      <td>7</td>\n",
       "      <td>1</td>\n",
       "      <td>0.04</td>\n",
       "      <td>78.0</td>\n",
       "      <td>72.0</td>\n",
       "      <td>75.0</td>\n",
       "      <td>0.0</td>\n",
       "      <td>7</td>\n",
       "      <td>1942</td>\n",
       "    </tr>\n",
       "    <tr>\n",
       "      <th>1</th>\n",
       "      <td>10001</td>\n",
       "      <td>1942-07-02</td>\n",
       "      <td>0</td>\n",
       "      <td>28.888889</td>\n",
       "      <td>21.666667</td>\n",
       "      <td>25.555556</td>\n",
       "      <td>0.0</td>\n",
       "      <td>42</td>\n",
       "      <td>7</td>\n",
       "      <td>2</td>\n",
       "      <td>0.00</td>\n",
       "      <td>84.0</td>\n",
       "      <td>71.0</td>\n",
       "      <td>78.0</td>\n",
       "      <td>0.0</td>\n",
       "      <td>7</td>\n",
       "      <td>1942</td>\n",
       "    </tr>\n",
       "    <tr>\n",
       "      <th>2</th>\n",
       "      <td>10001</td>\n",
       "      <td>1942-07-03</td>\n",
       "      <td>2.54</td>\n",
       "      <td>26.111111</td>\n",
       "      <td>22.222222</td>\n",
       "      <td>24.444444</td>\n",
       "      <td>0.0</td>\n",
       "      <td>42</td>\n",
       "      <td>7</td>\n",
       "      <td>3</td>\n",
       "      <td>0.10</td>\n",
       "      <td>79.0</td>\n",
       "      <td>72.0</td>\n",
       "      <td>76.0</td>\n",
       "      <td>0.0</td>\n",
       "      <td>7</td>\n",
       "      <td>1942</td>\n",
       "    </tr>\n",
       "    <tr>\n",
       "      <th>3</th>\n",
       "      <td>10001</td>\n",
       "      <td>1942-07-04</td>\n",
       "      <td>2.54</td>\n",
       "      <td>26.666667</td>\n",
       "      <td>22.222222</td>\n",
       "      <td>24.444444</td>\n",
       "      <td>0.0</td>\n",
       "      <td>42</td>\n",
       "      <td>7</td>\n",
       "      <td>4</td>\n",
       "      <td>0.10</td>\n",
       "      <td>80.0</td>\n",
       "      <td>72.0</td>\n",
       "      <td>76.0</td>\n",
       "      <td>0.0</td>\n",
       "      <td>7</td>\n",
       "      <td>1942</td>\n",
       "    </tr>\n",
       "    <tr>\n",
       "      <th>4</th>\n",
       "      <td>10001</td>\n",
       "      <td>1942-07-05</td>\n",
       "      <td>0</td>\n",
       "      <td>26.666667</td>\n",
       "      <td>21.666667</td>\n",
       "      <td>24.444444</td>\n",
       "      <td>0.0</td>\n",
       "      <td>42</td>\n",
       "      <td>7</td>\n",
       "      <td>5</td>\n",
       "      <td>0.00</td>\n",
       "      <td>80.0</td>\n",
       "      <td>71.0</td>\n",
       "      <td>76.0</td>\n",
       "      <td>0.0</td>\n",
       "      <td>7</td>\n",
       "      <td>1942</td>\n",
       "    </tr>\n",
       "  </tbody>\n",
       "</table>\n",
       "</div>"
      ],
      "text/plain": [
       "     STA       Date Precip    MaxTemp    MinTemp   MeanTemp Snowfall  YR  MO  \\\n",
       "0  10001 1942-07-01  1.016  25.555556  22.222222  23.888889      0.0  42   7   \n",
       "1  10001 1942-07-02      0  28.888889  21.666667  25.555556      0.0  42   7   \n",
       "2  10001 1942-07-03   2.54  26.111111  22.222222  24.444444      0.0  42   7   \n",
       "3  10001 1942-07-04   2.54  26.666667  22.222222  24.444444      0.0  42   7   \n",
       "4  10001 1942-07-05      0  26.666667  21.666667  24.444444      0.0  42   7   \n",
       "\n",
       "   DA  PRCP   MAX   MIN   MEA  SNF  Month  Year  \n",
       "0   1  0.04  78.0  72.0  75.0  0.0      7  1942  \n",
       "1   2  0.00  84.0  71.0  78.0  0.0      7  1942  \n",
       "2   3  0.10  79.0  72.0  76.0  0.0      7  1942  \n",
       "3   4  0.10  80.0  72.0  76.0  0.0      7  1942  \n",
       "4   5  0.00  80.0  71.0  76.0  0.0      7  1942  "
      ]
     },
     "execution_count": 57,
     "metadata": {},
     "output_type": "execute_result"
    }
   ],
   "source": [
    "Wsum.head()"
   ]
  },
  {
   "cell_type": "code",
   "execution_count": 5,
   "id": "0eb18e5f",
   "metadata": {},
   "outputs": [],
   "source": [
    "Wstat = pd.read_csv('../Datasets/Weather/Weather_stations.csv')"
   ]
  },
  {
   "cell_type": "code",
   "execution_count": 58,
   "id": "248fba68",
   "metadata": {},
   "outputs": [
    {
     "data": {
      "text/html": [
       "<div>\n",
       "<style scoped>\n",
       "    .dataframe tbody tr th:only-of-type {\n",
       "        vertical-align: middle;\n",
       "    }\n",
       "\n",
       "    .dataframe tbody tr th {\n",
       "        vertical-align: top;\n",
       "    }\n",
       "\n",
       "    .dataframe thead th {\n",
       "        text-align: right;\n",
       "    }\n",
       "</style>\n",
       "<table border=\"1\" class=\"dataframe\">\n",
       "  <thead>\n",
       "    <tr style=\"text-align: right;\">\n",
       "      <th></th>\n",
       "      <th>WBAN</th>\n",
       "      <th>NAME</th>\n",
       "      <th>STATE/COUNTRY ID</th>\n",
       "      <th>LAT</th>\n",
       "      <th>LON</th>\n",
       "      <th>ELEV</th>\n",
       "      <th>Latitude</th>\n",
       "      <th>Longitude</th>\n",
       "    </tr>\n",
       "  </thead>\n",
       "  <tbody>\n",
       "    <tr>\n",
       "      <th>0</th>\n",
       "      <td>33013</td>\n",
       "      <td>AIN EL</td>\n",
       "      <td>AL</td>\n",
       "      <td>3623N</td>\n",
       "      <td>00637E</td>\n",
       "      <td>611</td>\n",
       "      <td>36.383333</td>\n",
       "      <td>6.650000</td>\n",
       "    </tr>\n",
       "    <tr>\n",
       "      <th>1</th>\n",
       "      <td>33031</td>\n",
       "      <td>LA SENIA</td>\n",
       "      <td>AL</td>\n",
       "      <td>3537N</td>\n",
       "      <td>00037E</td>\n",
       "      <td>88</td>\n",
       "      <td>35.616667</td>\n",
       "      <td>0.583333</td>\n",
       "    </tr>\n",
       "    <tr>\n",
       "      <th>2</th>\n",
       "      <td>33023</td>\n",
       "      <td>MAISON BLANCHE</td>\n",
       "      <td>AL</td>\n",
       "      <td>3643N</td>\n",
       "      <td>00314E</td>\n",
       "      <td>23</td>\n",
       "      <td>36.716667</td>\n",
       "      <td>3.216667</td>\n",
       "    </tr>\n",
       "    <tr>\n",
       "      <th>3</th>\n",
       "      <td>33044</td>\n",
       "      <td>TELERGMA</td>\n",
       "      <td>AL</td>\n",
       "      <td>3607N</td>\n",
       "      <td>00621E</td>\n",
       "      <td>754</td>\n",
       "      <td>36.116667</td>\n",
       "      <td>6.416667</td>\n",
       "    </tr>\n",
       "    <tr>\n",
       "      <th>4</th>\n",
       "      <td>12001</td>\n",
       "      <td>TINDOUF</td>\n",
       "      <td>AL</td>\n",
       "      <td>2741N</td>\n",
       "      <td>00809W</td>\n",
       "      <td>443</td>\n",
       "      <td>27.683333</td>\n",
       "      <td>-8.083333</td>\n",
       "    </tr>\n",
       "  </tbody>\n",
       "</table>\n",
       "</div>"
      ],
      "text/plain": [
       "    WBAN            NAME STATE/COUNTRY ID    LAT     LON  ELEV   Latitude  \\\n",
       "0  33013          AIN EL               AL  3623N  00637E   611  36.383333   \n",
       "1  33031        LA SENIA               AL  3537N  00037E    88  35.616667   \n",
       "2  33023  MAISON BLANCHE               AL  3643N  00314E    23  36.716667   \n",
       "3  33044        TELERGMA               AL  3607N  00621E   754  36.116667   \n",
       "4  12001         TINDOUF               AL  2741N  00809W   443  27.683333   \n",
       "\n",
       "   Longitude  \n",
       "0   6.650000  \n",
       "1   0.583333  \n",
       "2   3.216667  \n",
       "3   6.416667  \n",
       "4  -8.083333  "
      ]
     },
     "execution_count": 58,
     "metadata": {},
     "output_type": "execute_result"
    }
   ],
   "source": [
    "Wstat.head()"
   ]
  },
  {
   "cell_type": "code",
   "execution_count": 7,
   "id": "b4ab408d",
   "metadata": {},
   "outputs": [
    {
     "data": {
      "text/html": [
       "<div>\n",
       "<style scoped>\n",
       "    .dataframe tbody tr th:only-of-type {\n",
       "        vertical-align: middle;\n",
       "    }\n",
       "\n",
       "    .dataframe tbody tr th {\n",
       "        vertical-align: top;\n",
       "    }\n",
       "\n",
       "    .dataframe thead th {\n",
       "        text-align: right;\n",
       "    }\n",
       "</style>\n",
       "<table border=\"1\" class=\"dataframe\">\n",
       "  <thead>\n",
       "    <tr style=\"text-align: right;\">\n",
       "      <th></th>\n",
       "      <th>STA</th>\n",
       "      <th>Date</th>\n",
       "      <th>Precip</th>\n",
       "      <th>WindGustSpd</th>\n",
       "      <th>MaxTemp</th>\n",
       "      <th>MinTemp</th>\n",
       "      <th>MeanTemp</th>\n",
       "      <th>Snowfall</th>\n",
       "      <th>PoorWeather</th>\n",
       "      <th>YR</th>\n",
       "      <th>...</th>\n",
       "      <th>FB</th>\n",
       "      <th>FTI</th>\n",
       "      <th>ITH</th>\n",
       "      <th>PGT</th>\n",
       "      <th>TSHDSBRSGF</th>\n",
       "      <th>SD3</th>\n",
       "      <th>RHX</th>\n",
       "      <th>RHN</th>\n",
       "      <th>RVG</th>\n",
       "      <th>WTE</th>\n",
       "    </tr>\n",
       "  </thead>\n",
       "  <tbody>\n",
       "    <tr>\n",
       "      <th>0</th>\n",
       "      <td>10001</td>\n",
       "      <td>1942-7-1</td>\n",
       "      <td>1.016</td>\n",
       "      <td>NaN</td>\n",
       "      <td>25.555556</td>\n",
       "      <td>22.222222</td>\n",
       "      <td>23.888889</td>\n",
       "      <td>0.0</td>\n",
       "      <td>NaN</td>\n",
       "      <td>42</td>\n",
       "      <td>...</td>\n",
       "      <td>NaN</td>\n",
       "      <td>NaN</td>\n",
       "      <td>NaN</td>\n",
       "      <td>NaN</td>\n",
       "      <td>NaN</td>\n",
       "      <td>NaN</td>\n",
       "      <td>NaN</td>\n",
       "      <td>NaN</td>\n",
       "      <td>NaN</td>\n",
       "      <td>NaN</td>\n",
       "    </tr>\n",
       "    <tr>\n",
       "      <th>1</th>\n",
       "      <td>10001</td>\n",
       "      <td>1942-7-2</td>\n",
       "      <td>0</td>\n",
       "      <td>NaN</td>\n",
       "      <td>28.888889</td>\n",
       "      <td>21.666667</td>\n",
       "      <td>25.555556</td>\n",
       "      <td>0.0</td>\n",
       "      <td>NaN</td>\n",
       "      <td>42</td>\n",
       "      <td>...</td>\n",
       "      <td>NaN</td>\n",
       "      <td>NaN</td>\n",
       "      <td>NaN</td>\n",
       "      <td>NaN</td>\n",
       "      <td>NaN</td>\n",
       "      <td>NaN</td>\n",
       "      <td>NaN</td>\n",
       "      <td>NaN</td>\n",
       "      <td>NaN</td>\n",
       "      <td>NaN</td>\n",
       "    </tr>\n",
       "    <tr>\n",
       "      <th>2</th>\n",
       "      <td>10001</td>\n",
       "      <td>1942-7-3</td>\n",
       "      <td>2.54</td>\n",
       "      <td>NaN</td>\n",
       "      <td>26.111111</td>\n",
       "      <td>22.222222</td>\n",
       "      <td>24.444444</td>\n",
       "      <td>0.0</td>\n",
       "      <td>NaN</td>\n",
       "      <td>42</td>\n",
       "      <td>...</td>\n",
       "      <td>NaN</td>\n",
       "      <td>NaN</td>\n",
       "      <td>NaN</td>\n",
       "      <td>NaN</td>\n",
       "      <td>NaN</td>\n",
       "      <td>NaN</td>\n",
       "      <td>NaN</td>\n",
       "      <td>NaN</td>\n",
       "      <td>NaN</td>\n",
       "      <td>NaN</td>\n",
       "    </tr>\n",
       "    <tr>\n",
       "      <th>3</th>\n",
       "      <td>10001</td>\n",
       "      <td>1942-7-4</td>\n",
       "      <td>2.54</td>\n",
       "      <td>NaN</td>\n",
       "      <td>26.666667</td>\n",
       "      <td>22.222222</td>\n",
       "      <td>24.444444</td>\n",
       "      <td>0.0</td>\n",
       "      <td>NaN</td>\n",
       "      <td>42</td>\n",
       "      <td>...</td>\n",
       "      <td>NaN</td>\n",
       "      <td>NaN</td>\n",
       "      <td>NaN</td>\n",
       "      <td>NaN</td>\n",
       "      <td>NaN</td>\n",
       "      <td>NaN</td>\n",
       "      <td>NaN</td>\n",
       "      <td>NaN</td>\n",
       "      <td>NaN</td>\n",
       "      <td>NaN</td>\n",
       "    </tr>\n",
       "    <tr>\n",
       "      <th>4</th>\n",
       "      <td>10001</td>\n",
       "      <td>1942-7-5</td>\n",
       "      <td>0</td>\n",
       "      <td>NaN</td>\n",
       "      <td>26.666667</td>\n",
       "      <td>21.666667</td>\n",
       "      <td>24.444444</td>\n",
       "      <td>0.0</td>\n",
       "      <td>NaN</td>\n",
       "      <td>42</td>\n",
       "      <td>...</td>\n",
       "      <td>NaN</td>\n",
       "      <td>NaN</td>\n",
       "      <td>NaN</td>\n",
       "      <td>NaN</td>\n",
       "      <td>NaN</td>\n",
       "      <td>NaN</td>\n",
       "      <td>NaN</td>\n",
       "      <td>NaN</td>\n",
       "      <td>NaN</td>\n",
       "      <td>NaN</td>\n",
       "    </tr>\n",
       "  </tbody>\n",
       "</table>\n",
       "<p>5 rows × 31 columns</p>\n",
       "</div>"
      ],
      "text/plain": [
       "     STA      Date Precip  WindGustSpd    MaxTemp    MinTemp   MeanTemp  \\\n",
       "0  10001  1942-7-1  1.016          NaN  25.555556  22.222222  23.888889   \n",
       "1  10001  1942-7-2      0          NaN  28.888889  21.666667  25.555556   \n",
       "2  10001  1942-7-3   2.54          NaN  26.111111  22.222222  24.444444   \n",
       "3  10001  1942-7-4   2.54          NaN  26.666667  22.222222  24.444444   \n",
       "4  10001  1942-7-5      0          NaN  26.666667  21.666667  24.444444   \n",
       "\n",
       "  Snowfall PoorWeather  YR  ...  FB  FTI ITH  PGT  TSHDSBRSGF  SD3  RHX  RHN  \\\n",
       "0      0.0         NaN  42  ... NaN  NaN NaN  NaN         NaN  NaN  NaN  NaN   \n",
       "1      0.0         NaN  42  ... NaN  NaN NaN  NaN         NaN  NaN  NaN  NaN   \n",
       "2      0.0         NaN  42  ... NaN  NaN NaN  NaN         NaN  NaN  NaN  NaN   \n",
       "3      0.0         NaN  42  ... NaN  NaN NaN  NaN         NaN  NaN  NaN  NaN   \n",
       "4      0.0         NaN  42  ... NaN  NaN NaN  NaN         NaN  NaN  NaN  NaN   \n",
       "\n",
       "  RVG  WTE  \n",
       "0 NaN  NaN  \n",
       "1 NaN  NaN  \n",
       "2 NaN  NaN  \n",
       "3 NaN  NaN  \n",
       "4 NaN  NaN  \n",
       "\n",
       "[5 rows x 31 columns]"
      ]
     },
     "execution_count": 7,
     "metadata": {},
     "output_type": "execute_result"
    }
   ],
   "source": [
    "Wsum.head()"
   ]
  },
  {
   "cell_type": "code",
   "execution_count": 8,
   "id": "78c99276",
   "metadata": {},
   "outputs": [
    {
     "data": {
      "text/plain": [
       "Index(['STA', 'Date', 'Precip', 'WindGustSpd', 'MaxTemp', 'MinTemp',\n",
       "       'MeanTemp', 'Snowfall', 'PoorWeather', 'YR'],\n",
       "      dtype='object')"
      ]
     },
     "execution_count": 8,
     "metadata": {},
     "output_type": "execute_result"
    }
   ],
   "source": [
    "Wsum.columns[:10]"
   ]
  },
  {
   "cell_type": "code",
   "execution_count": 9,
   "id": "f42e9fd6",
   "metadata": {},
   "outputs": [],
   "source": [
    "import datetime"
   ]
  },
  {
   "cell_type": "code",
   "execution_count": 10,
   "id": "2c733e1b",
   "metadata": {},
   "outputs": [],
   "source": [
    "dates = pd.to_datetime(Wsum['Date'])"
   ]
  },
  {
   "cell_type": "code",
   "execution_count": 11,
   "id": "9a111751",
   "metadata": {},
   "outputs": [
    {
     "data": {
      "text/plain": [
       "0        1942-07-01\n",
       "1        1942-07-02\n",
       "2        1942-07-03\n",
       "3        1942-07-04\n",
       "4        1942-07-05\n",
       "            ...    \n",
       "119035   1945-12-27\n",
       "119036   1945-12-28\n",
       "119037   1945-12-29\n",
       "119038   1945-12-30\n",
       "119039   1945-12-31\n",
       "Name: Date, Length: 119040, dtype: datetime64[ns]"
      ]
     },
     "execution_count": 11,
     "metadata": {},
     "output_type": "execute_result"
    }
   ],
   "source": [
    "dates"
   ]
  },
  {
   "cell_type": "code",
   "execution_count": 12,
   "id": "bab56a75",
   "metadata": {},
   "outputs": [],
   "source": [
    "Wsum['Date'] = dates"
   ]
  },
  {
   "cell_type": "code",
   "execution_count": 13,
   "id": "29f2c8f4",
   "metadata": {},
   "outputs": [],
   "source": [
    "months = Wsum['Date'].dt.month "
   ]
  },
  {
   "cell_type": "code",
   "execution_count": 14,
   "id": "232f7ecd",
   "metadata": {},
   "outputs": [
    {
     "data": {
      "text/plain": [
       "0          7\n",
       "1          7\n",
       "2          7\n",
       "3          7\n",
       "4          7\n",
       "          ..\n",
       "119035    12\n",
       "119036    12\n",
       "119037    12\n",
       "119038    12\n",
       "119039    12\n",
       "Name: Date, Length: 119040, dtype: int64"
      ]
     },
     "execution_count": 14,
     "metadata": {},
     "output_type": "execute_result"
    }
   ],
   "source": [
    "months"
   ]
  },
  {
   "cell_type": "code",
   "execution_count": 15,
   "id": "b421d5d2",
   "metadata": {},
   "outputs": [],
   "source": [
    "years = Wsum['Date'].dt.year"
   ]
  },
  {
   "cell_type": "code",
   "execution_count": 16,
   "id": "1e028345",
   "metadata": {},
   "outputs": [],
   "source": [
    "Wsum['Month'] = months\n",
    "Wsum['Year'] = years"
   ]
  },
  {
   "cell_type": "code",
   "execution_count": 17,
   "id": "a4ac4fff",
   "metadata": {},
   "outputs": [
    {
     "data": {
      "text/html": [
       "<div>\n",
       "<style scoped>\n",
       "    .dataframe tbody tr th:only-of-type {\n",
       "        vertical-align: middle;\n",
       "    }\n",
       "\n",
       "    .dataframe tbody tr th {\n",
       "        vertical-align: top;\n",
       "    }\n",
       "\n",
       "    .dataframe thead th {\n",
       "        text-align: right;\n",
       "    }\n",
       "</style>\n",
       "<table border=\"1\" class=\"dataframe\">\n",
       "  <thead>\n",
       "    <tr style=\"text-align: right;\">\n",
       "      <th></th>\n",
       "      <th>Month</th>\n",
       "      <th>Year</th>\n",
       "    </tr>\n",
       "  </thead>\n",
       "  <tbody>\n",
       "    <tr>\n",
       "      <th>0</th>\n",
       "      <td>7</td>\n",
       "      <td>1942</td>\n",
       "    </tr>\n",
       "    <tr>\n",
       "      <th>1</th>\n",
       "      <td>7</td>\n",
       "      <td>1942</td>\n",
       "    </tr>\n",
       "    <tr>\n",
       "      <th>2</th>\n",
       "      <td>7</td>\n",
       "      <td>1942</td>\n",
       "    </tr>\n",
       "    <tr>\n",
       "      <th>3</th>\n",
       "      <td>7</td>\n",
       "      <td>1942</td>\n",
       "    </tr>\n",
       "    <tr>\n",
       "      <th>4</th>\n",
       "      <td>7</td>\n",
       "      <td>1942</td>\n",
       "    </tr>\n",
       "    <tr>\n",
       "      <th>...</th>\n",
       "      <td>...</td>\n",
       "      <td>...</td>\n",
       "    </tr>\n",
       "    <tr>\n",
       "      <th>119035</th>\n",
       "      <td>12</td>\n",
       "      <td>1945</td>\n",
       "    </tr>\n",
       "    <tr>\n",
       "      <th>119036</th>\n",
       "      <td>12</td>\n",
       "      <td>1945</td>\n",
       "    </tr>\n",
       "    <tr>\n",
       "      <th>119037</th>\n",
       "      <td>12</td>\n",
       "      <td>1945</td>\n",
       "    </tr>\n",
       "    <tr>\n",
       "      <th>119038</th>\n",
       "      <td>12</td>\n",
       "      <td>1945</td>\n",
       "    </tr>\n",
       "    <tr>\n",
       "      <th>119039</th>\n",
       "      <td>12</td>\n",
       "      <td>1945</td>\n",
       "    </tr>\n",
       "  </tbody>\n",
       "</table>\n",
       "<p>119040 rows × 2 columns</p>\n",
       "</div>"
      ],
      "text/plain": [
       "        Month  Year\n",
       "0           7  1942\n",
       "1           7  1942\n",
       "2           7  1942\n",
       "3           7  1942\n",
       "4           7  1942\n",
       "...       ...   ...\n",
       "119035     12  1945\n",
       "119036     12  1945\n",
       "119037     12  1945\n",
       "119038     12  1945\n",
       "119039     12  1945\n",
       "\n",
       "[119040 rows x 2 columns]"
      ]
     },
     "execution_count": 17,
     "metadata": {},
     "output_type": "execute_result"
    }
   ],
   "source": [
    "Wsum[['Month', 'Year']]"
   ]
  },
  {
   "cell_type": "code",
   "execution_count": 18,
   "id": "fe5a407f",
   "metadata": {},
   "outputs": [
    {
     "data": {
      "text/plain": [
       "Index(['STA', 'Date', 'Precip', 'WindGustSpd', 'MaxTemp', 'MinTemp',\n",
       "       'MeanTemp', 'Snowfall', 'PoorWeather', 'YR'],\n",
       "      dtype='object')"
      ]
     },
     "execution_count": 18,
     "metadata": {},
     "output_type": "execute_result"
    }
   ],
   "source": [
    "Wsum.columns[:10]"
   ]
  },
  {
   "cell_type": "code",
   "execution_count": 19,
   "id": "b5bb329b",
   "metadata": {},
   "outputs": [
    {
     "data": {
      "text/plain": [
       "STA                 0\n",
       "Date                0\n",
       "Precip              0\n",
       "WindGustSpd    118508\n",
       "MaxTemp             0\n",
       "MinTemp             0\n",
       "MeanTemp            0\n",
       "Snowfall         1163\n",
       "PoorWeather     84803\n",
       "YR                  0\n",
       "MO                  0\n",
       "DA                  0\n",
       "PRCP             1932\n",
       "DR             118507\n",
       "SPD            118508\n",
       "MAX               474\n",
       "MIN               468\n",
       "MEA               498\n",
       "SNF              1163\n",
       "SND            113477\n",
       "FT             119040\n",
       "FB             119040\n",
       "FTI            119040\n",
       "ITH            119040\n",
       "PGT            118515\n",
       "TSHDSBRSGF      84803\n",
       "SD3            119040\n",
       "RHX            119040\n",
       "RHN            119040\n",
       "RVG            119040\n",
       "WTE            119040\n",
       "Month               0\n",
       "Year                0\n",
       "dtype: int64"
      ]
     },
     "execution_count": 19,
     "metadata": {},
     "output_type": "execute_result"
    }
   ],
   "source": [
    "Wsum.isna().sum()"
   ]
  },
  {
   "cell_type": "code",
   "execution_count": 20,
   "id": "ffed3511",
   "metadata": {},
   "outputs": [],
   "source": [
    "Wsum.drop(['RVG', 'RHX', 'RHN', 'WTE', 'SD3', 'PGT', 'SND', 'FT', 'FB', 'FTI'], axis=1, inplace=True)"
   ]
  },
  {
   "cell_type": "code",
   "execution_count": 21,
   "id": "35777843",
   "metadata": {},
   "outputs": [],
   "source": [
    "Wsum.drop(['ITH', 'TSHDSBRSGF', 'DR', 'SPD', 'WindGustSpd'],axis=1, inplace=True)"
   ]
  },
  {
   "cell_type": "code",
   "execution_count": 22,
   "id": "db3f0f88",
   "metadata": {},
   "outputs": [
    {
     "data": {
      "text/plain": [
       "STA                0\n",
       "Date               0\n",
       "Precip             0\n",
       "MaxTemp            0\n",
       "MinTemp            0\n",
       "MeanTemp           0\n",
       "Snowfall        1163\n",
       "PoorWeather    84803\n",
       "YR                 0\n",
       "MO                 0\n",
       "DA                 0\n",
       "PRCP            1932\n",
       "MAX              474\n",
       "MIN              468\n",
       "MEA              498\n",
       "SNF             1163\n",
       "Month              0\n",
       "Year               0\n",
       "dtype: int64"
      ]
     },
     "execution_count": 22,
     "metadata": {},
     "output_type": "execute_result"
    }
   ],
   "source": [
    "Wsum.isna().sum()"
   ]
  },
  {
   "cell_type": "code",
   "execution_count": 23,
   "id": "b4e418e1",
   "metadata": {},
   "outputs": [
    {
     "data": {
      "text/plain": [
       "array([nan, '1', '1     1', '1 1', '1     1  1', '1  1', '1        1',\n",
       "       '0', '1   1 1', '1    1', '1     0', '1000', '1001', '100000',\n",
       "       '1000001000', '101000', '101001', '1000001001', '1000101001',\n",
       "       '100001', '1000000000', '1000101000', '1010001000', '1000100000',\n",
       "       '1000100001', '1010001001', '10001001', '11', '11 1', '11    1',\n",
       "       '1100000', '1 1  1', '1 0  1', '1 0', '1   1 1  1', '1000000',\n",
       "       '1101000', '1101001', '1   1', 1.0], dtype=object)"
      ]
     },
     "execution_count": 23,
     "metadata": {},
     "output_type": "execute_result"
    }
   ],
   "source": [
    "Wsum['PoorWeather'].unique()"
   ]
  },
  {
   "cell_type": "code",
   "execution_count": 56,
   "id": "83fb2d7d",
   "metadata": {},
   "outputs": [
    {
     "data": {
      "text/plain": [
       "array([0.04, 0.  , 0.1 , 0.15, 0.14, 0.02, 0.01, 0.07, 0.13, 0.03])"
      ]
     },
     "execution_count": 56,
     "metadata": {},
     "output_type": "execute_result"
    }
   ],
   "source": [
    "Wsum['PRCP'].unique()[:10]"
   ]
  },
  {
   "cell_type": "code",
   "execution_count": 25,
   "id": "0be3c4f8",
   "metadata": {},
   "outputs": [
    {
     "data": {
      "text/plain": [
       "0    0.0\n",
       "Name: Snowfall, dtype: object"
      ]
     },
     "execution_count": 25,
     "metadata": {},
     "output_type": "execute_result"
    }
   ],
   "source": [
    "Wsum['Snowfall'].mode()"
   ]
  },
  {
   "cell_type": "code",
   "execution_count": 26,
   "id": "626b1607",
   "metadata": {},
   "outputs": [],
   "source": [
    "Wsum['Snowfall'].fillna(Wsum['Snowfall'].mode()[0], inplace=True)"
   ]
  },
  {
   "cell_type": "code",
   "execution_count": 27,
   "id": "6e77f8df",
   "metadata": {},
   "outputs": [],
   "source": [
    "Wsum.drop(['PoorWeather'], axis=1, inplace=True)"
   ]
  },
  {
   "cell_type": "code",
   "execution_count": 28,
   "id": "c07ff73d",
   "metadata": {},
   "outputs": [
    {
     "data": {
      "text/plain": [
       "STA            0\n",
       "Date           0\n",
       "Precip         0\n",
       "MaxTemp        0\n",
       "MinTemp        0\n",
       "MeanTemp       0\n",
       "Snowfall       0\n",
       "YR             0\n",
       "MO             0\n",
       "DA             0\n",
       "PRCP        1932\n",
       "MAX          474\n",
       "MIN          468\n",
       "MEA          498\n",
       "SNF         1163\n",
       "Month          0\n",
       "Year           0\n",
       "dtype: int64"
      ]
     },
     "execution_count": 28,
     "metadata": {},
     "output_type": "execute_result"
    }
   ],
   "source": [
    "Wsum.isna().sum()"
   ]
  },
  {
   "cell_type": "code",
   "execution_count": 29,
   "id": "b293eec1",
   "metadata": {},
   "outputs": [
    {
     "data": {
      "text/plain": [
       "0         0.04\n",
       "1            0\n",
       "2          0.1\n",
       "3          0.1\n",
       "4            0\n",
       "          ... \n",
       "119035       0\n",
       "119036    0.39\n",
       "119037       0\n",
       "119038       0\n",
       "119039       0\n",
       "Name: PRCP, Length: 119040, dtype: object"
      ]
     },
     "execution_count": 29,
     "metadata": {},
     "output_type": "execute_result"
    }
   ],
   "source": [
    "Wsum.PRCP"
   ]
  },
  {
   "cell_type": "code",
   "execution_count": 30,
   "id": "59096f82",
   "metadata": {},
   "outputs": [
    {
     "data": {
      "text/plain": [
       "6         T\n",
       "8         T\n",
       "15        T\n",
       "16        T\n",
       "17        T\n",
       "         ..\n",
       "119001    T\n",
       "119006    T\n",
       "119014    T\n",
       "119018    T\n",
       "119031    T\n",
       "Name: PRCP, Length: 16753, dtype: object"
      ]
     },
     "execution_count": 30,
     "metadata": {},
     "output_type": "execute_result"
    }
   ],
   "source": [
    "Wsum[Wsum['PRCP']=='T']['PRCP']"
   ]
  },
  {
   "cell_type": "code",
   "execution_count": 31,
   "id": "8e35aa9e",
   "metadata": {},
   "outputs": [
    {
     "data": {
      "text/plain": [
       "STA            0\n",
       "Date           0\n",
       "Precip         0\n",
       "MaxTemp        0\n",
       "MinTemp        0\n",
       "MeanTemp       0\n",
       "Snowfall       0\n",
       "YR             0\n",
       "MO             0\n",
       "DA             0\n",
       "PRCP        1932\n",
       "MAX          474\n",
       "MIN          468\n",
       "MEA          498\n",
       "SNF         1163\n",
       "Month          0\n",
       "Year           0\n",
       "dtype: int64"
      ]
     },
     "execution_count": 31,
     "metadata": {},
     "output_type": "execute_result"
    }
   ],
   "source": [
    "Wsum.isna().sum()"
   ]
  },
  {
   "cell_type": "code",
   "execution_count": 32,
   "id": "d209c336",
   "metadata": {},
   "outputs": [],
   "source": [
    "Wsum['MAX']=Wsum['MAX'].fillna(Wsum['MAX'].mean())\n",
    "Wsum['MIN']=Wsum['MIN'].fillna(Wsum['MIN'].mean())\n",
    "Wsum['MEA']=Wsum['MEA'].fillna(Wsum['MEA'].mean())"
   ]
  },
  {
   "cell_type": "code",
   "execution_count": 33,
   "id": "03920dd2",
   "metadata": {},
   "outputs": [
    {
     "data": {
      "text/plain": [
       "array([0.0, nan, '0', '0.9', '1.3', '1.2', '0.1', '0.2', '0.4', '0.3',\n",
       "       '0.8', '0.6', '0.7', '0.5', '1', '1.1', '1.7', '1.5', '1.8', '2.1',\n",
       "       '2.3', '2.6', '3', '3.2', '2.9', '2.5', '2', '1.9', '2.4', '2.2',\n",
       "       '1.4', '3.1', '1.6', '3.4', '3.3', '2.7', 'T', 0.4, 0.3, 0.6, 0.1,\n",
       "       0.2, 0.5], dtype=object)"
      ]
     },
     "execution_count": 33,
     "metadata": {},
     "output_type": "execute_result"
    }
   ],
   "source": [
    "Wsum['SNF'].unique()"
   ]
  },
  {
   "cell_type": "code",
   "execution_count": 34,
   "id": "486ea3d9",
   "metadata": {},
   "outputs": [
    {
     "data": {
      "text/plain": [
       "(44,)"
      ]
     },
     "execution_count": 34,
     "metadata": {},
     "output_type": "execute_result"
    }
   ],
   "source": [
    "Wsum[Wsum['SNF']=='T']['SNF'].shape"
   ]
  },
  {
   "cell_type": "code",
   "execution_count": 35,
   "id": "adc78b24",
   "metadata": {},
   "outputs": [],
   "source": [
    "Wsum = Wsum[Wsum['SNF']!='T']"
   ]
  },
  {
   "cell_type": "code",
   "execution_count": 36,
   "id": "65d14741",
   "metadata": {},
   "outputs": [
    {
     "data": {
      "text/plain": [
       "array([0.0, nan, '0', '0.9', '1.3', '1.2', '0.1', '0.2', '0.4', '0.3',\n",
       "       '0.8', '0.6', '0.7', '0.5', '1', '1.1', '1.7', '1.5', '1.8', '2.1',\n",
       "       '2.3', '2.6', '3', '3.2', '2.9', '2.5', '2', '1.9', '2.4', '2.2',\n",
       "       '1.4', '3.1', '1.6', '3.4', '3.3', '2.7', 0.4, 0.3, 0.6, 0.1, 0.2,\n",
       "       0.5], dtype=object)"
      ]
     },
     "execution_count": 36,
     "metadata": {},
     "output_type": "execute_result"
    }
   ],
   "source": [
    "Wsum['SNF'].unique()"
   ]
  },
  {
   "cell_type": "code",
   "execution_count": 37,
   "id": "cee041f4",
   "metadata": {},
   "outputs": [],
   "source": [
    "Wsum['SNF']=Wsum['SNF'].astype(float)"
   ]
  },
  {
   "cell_type": "code",
   "execution_count": 38,
   "id": "1ce0fe8b",
   "metadata": {},
   "outputs": [
    {
     "data": {
      "text/plain": [
       "1163"
      ]
     },
     "execution_count": 38,
     "metadata": {},
     "output_type": "execute_result"
    }
   ],
   "source": [
    "Wsum['SNF'].isna().sum()"
   ]
  },
  {
   "cell_type": "code",
   "execution_count": 39,
   "id": "df762c53",
   "metadata": {},
   "outputs": [
    {
     "data": {
      "text/plain": [
       "0.0"
      ]
     },
     "execution_count": 39,
     "metadata": {},
     "output_type": "execute_result"
    }
   ],
   "source": [
    "Wsum['SNF'].median()"
   ]
  },
  {
   "cell_type": "code",
   "execution_count": 40,
   "id": "96ce9313",
   "metadata": {},
   "outputs": [],
   "source": [
    "Wsum['SNF']=Wsum['SNF'].fillna(0.0)"
   ]
  },
  {
   "cell_type": "code",
   "execution_count": 41,
   "id": "bf036cfb",
   "metadata": {},
   "outputs": [
    {
     "data": {
      "text/plain": [
       "STA            0\n",
       "Date           0\n",
       "Precip         0\n",
       "MaxTemp        0\n",
       "MinTemp        0\n",
       "MeanTemp       0\n",
       "Snowfall       0\n",
       "YR             0\n",
       "MO             0\n",
       "DA             0\n",
       "PRCP        1932\n",
       "MAX            0\n",
       "MIN            0\n",
       "MEA            0\n",
       "SNF            0\n",
       "Month          0\n",
       "Year           0\n",
       "dtype: int64"
      ]
     },
     "execution_count": 41,
     "metadata": {},
     "output_type": "execute_result"
    }
   ],
   "source": [
    "Wsum.isna().sum()"
   ]
  },
  {
   "cell_type": "code",
   "execution_count": 42,
   "id": "24030a7e",
   "metadata": {},
   "outputs": [
    {
     "data": {
      "text/plain": [
       "0.1506661882549934"
      ]
     },
     "execution_count": 42,
     "metadata": {},
     "output_type": "execute_result"
    }
   ],
   "source": [
    "Wsum[Wsum['PRCP']!='T']['PRCP'].astype(float).mean()"
   ]
  },
  {
   "cell_type": "code",
   "execution_count": 43,
   "id": "625d0860",
   "metadata": {},
   "outputs": [],
   "source": [
    "rows_to_replace = Wsum['PRCP'].isin(['T'])"
   ]
  },
  {
   "cell_type": "code",
   "execution_count": 44,
   "id": "6dc04dac",
   "metadata": {},
   "outputs": [],
   "source": [
    "Wsum['PRCP'].loc[rows_to_replace] = 0.15"
   ]
  },
  {
   "cell_type": "code",
   "execution_count": 55,
   "id": "17391197",
   "metadata": {},
   "outputs": [
    {
     "data": {
      "text/plain": [
       "array([0.04, 0.  , 0.1 , 0.15, 0.14, 0.02, 0.01, 0.07, 0.13, 0.03])"
      ]
     },
     "execution_count": 55,
     "metadata": {},
     "output_type": "execute_result"
    }
   ],
   "source": [
    "Wsum['PRCP'].unique()[:10]"
   ]
  },
  {
   "cell_type": "code",
   "execution_count": 47,
   "id": "bbce98f2",
   "metadata": {},
   "outputs": [
    {
     "data": {
      "text/plain": [
       "1932"
      ]
     },
     "execution_count": 47,
     "metadata": {},
     "output_type": "execute_result"
    }
   ],
   "source": [
    "Wsum['PRCP'].isna().sum()"
   ]
  },
  {
   "cell_type": "code",
   "execution_count": 53,
   "id": "951f1802",
   "metadata": {},
   "outputs": [],
   "source": [
    "Wsum['PRCP'] = Wsum['PRCP'].astype(float)"
   ]
  },
  {
   "cell_type": "code",
   "execution_count": 52,
   "id": "df98b77c",
   "metadata": {},
   "outputs": [],
   "source": [
    "Wsum['PRCP'] = Wsum['PRCP'].fillna(0.15)"
   ]
  },
  {
   "cell_type": "code",
   "execution_count": 54,
   "id": "0a5e4d49",
   "metadata": {},
   "outputs": [
    {
     "data": {
      "text/plain": [
       "STA         0\n",
       "Date        0\n",
       "Precip      0\n",
       "MaxTemp     0\n",
       "MinTemp     0\n",
       "MeanTemp    0\n",
       "Snowfall    0\n",
       "YR          0\n",
       "MO          0\n",
       "DA          0\n",
       "PRCP        0\n",
       "MAX         0\n",
       "MIN         0\n",
       "MEA         0\n",
       "SNF         0\n",
       "Month       0\n",
       "Year        0\n",
       "dtype: int64"
      ]
     },
     "execution_count": 54,
     "metadata": {},
     "output_type": "execute_result"
    }
   ],
   "source": [
    "Wsum.isna().sum()"
   ]
  },
  {
   "cell_type": "code",
   "execution_count": 62,
   "id": "01192f5d",
   "metadata": {},
   "outputs": [
    {
     "data": {
      "text/plain": [
       "159"
      ]
     },
     "execution_count": 62,
     "metadata": {},
     "output_type": "execute_result"
    }
   ],
   "source": [
    "len(Wsum['STA'].unique())"
   ]
  },
  {
   "cell_type": "code",
   "execution_count": 63,
   "id": "26543506",
   "metadata": {},
   "outputs": [
    {
     "data": {
      "text/plain": [
       "Index(['WBAN', 'NAME', 'STATE/COUNTRY ID', 'LAT', 'LON', 'ELEV', 'Latitude',\n",
       "       'Longitude'],\n",
       "      dtype='object')"
      ]
     },
     "execution_count": 63,
     "metadata": {},
     "output_type": "execute_result"
    }
   ],
   "source": [
    "Wstat.columns"
   ]
  },
  {
   "cell_type": "code",
   "execution_count": 64,
   "id": "d562d4c7",
   "metadata": {},
   "outputs": [
    {
     "data": {
      "text/plain": [
       "0      33013\n",
       "1      33031\n",
       "2      33023\n",
       "3      33044\n",
       "4      12001\n",
       "       ...  \n",
       "156    33109\n",
       "157    33121\n",
       "158    33003\n",
       "159    33307\n",
       "160    15027\n",
       "Name: WBAN, Length: 161, dtype: int64"
      ]
     },
     "execution_count": 64,
     "metadata": {},
     "output_type": "execute_result"
    }
   ],
   "source": [
    "Wstat.WBAN"
   ]
  },
  {
   "cell_type": "code",
   "execution_count": 68,
   "id": "4d56ceef",
   "metadata": {},
   "outputs": [],
   "source": [
    "Wstat['NAME']=Wstat['NAME'].str.strip()\n",
    "Wstat['NAME']=Wstat['NAME'].str.lower()"
   ]
  },
  {
   "cell_type": "code",
   "execution_count": 69,
   "id": "39c86fab",
   "metadata": {},
   "outputs": [
    {
     "data": {
      "text/plain": [
       "0              ain el\n",
       "1            la senia\n",
       "2      maison blanche\n",
       "3            telergma\n",
       "4             tindouf\n",
       "            ...      \n",
       "156         el aquina\n",
       "157           el djem\n",
       "158        sisi ahmed\n",
       "159             adana\n",
       "160        warrington\n",
       "Name: NAME, Length: 161, dtype: object"
      ]
     },
     "execution_count": 69,
     "metadata": {},
     "output_type": "execute_result"
    }
   ],
   "source": [
    "Wstat['NAME']"
   ]
  },
  {
   "cell_type": "code",
   "execution_count": 70,
   "id": "8f42f796",
   "metadata": {},
   "outputs": [
    {
     "data": {
      "text/html": [
       "<div>\n",
       "<style scoped>\n",
       "    .dataframe tbody tr th:only-of-type {\n",
       "        vertical-align: middle;\n",
       "    }\n",
       "\n",
       "    .dataframe tbody tr th {\n",
       "        vertical-align: top;\n",
       "    }\n",
       "\n",
       "    .dataframe thead th {\n",
       "        text-align: right;\n",
       "    }\n",
       "</style>\n",
       "<table border=\"1\" class=\"dataframe\">\n",
       "  <thead>\n",
       "    <tr style=\"text-align: right;\">\n",
       "      <th></th>\n",
       "      <th>WBAN</th>\n",
       "      <th>NAME</th>\n",
       "      <th>STATE/COUNTRY ID</th>\n",
       "      <th>LAT</th>\n",
       "      <th>LON</th>\n",
       "      <th>ELEV</th>\n",
       "      <th>Latitude</th>\n",
       "      <th>Longitude</th>\n",
       "    </tr>\n",
       "  </thead>\n",
       "  <tbody>\n",
       "    <tr>\n",
       "      <th>0</th>\n",
       "      <td>33013</td>\n",
       "      <td>ain el</td>\n",
       "      <td>AL</td>\n",
       "      <td>3623N</td>\n",
       "      <td>00637E</td>\n",
       "      <td>611</td>\n",
       "      <td>36.383333</td>\n",
       "      <td>6.650000</td>\n",
       "    </tr>\n",
       "    <tr>\n",
       "      <th>1</th>\n",
       "      <td>33031</td>\n",
       "      <td>la senia</td>\n",
       "      <td>AL</td>\n",
       "      <td>3537N</td>\n",
       "      <td>00037E</td>\n",
       "      <td>88</td>\n",
       "      <td>35.616667</td>\n",
       "      <td>0.583333</td>\n",
       "    </tr>\n",
       "    <tr>\n",
       "      <th>2</th>\n",
       "      <td>33023</td>\n",
       "      <td>maison blanche</td>\n",
       "      <td>AL</td>\n",
       "      <td>3643N</td>\n",
       "      <td>00314E</td>\n",
       "      <td>23</td>\n",
       "      <td>36.716667</td>\n",
       "      <td>3.216667</td>\n",
       "    </tr>\n",
       "    <tr>\n",
       "      <th>3</th>\n",
       "      <td>33044</td>\n",
       "      <td>telergma</td>\n",
       "      <td>AL</td>\n",
       "      <td>3607N</td>\n",
       "      <td>00621E</td>\n",
       "      <td>754</td>\n",
       "      <td>36.116667</td>\n",
       "      <td>6.416667</td>\n",
       "    </tr>\n",
       "    <tr>\n",
       "      <th>4</th>\n",
       "      <td>12001</td>\n",
       "      <td>tindouf</td>\n",
       "      <td>AL</td>\n",
       "      <td>2741N</td>\n",
       "      <td>00809W</td>\n",
       "      <td>443</td>\n",
       "      <td>27.683333</td>\n",
       "      <td>-8.083333</td>\n",
       "    </tr>\n",
       "  </tbody>\n",
       "</table>\n",
       "</div>"
      ],
      "text/plain": [
       "    WBAN            NAME STATE/COUNTRY ID    LAT     LON  ELEV   Latitude  \\\n",
       "0  33013          ain el               AL  3623N  00637E   611  36.383333   \n",
       "1  33031        la senia               AL  3537N  00037E    88  35.616667   \n",
       "2  33023  maison blanche               AL  3643N  00314E    23  36.716667   \n",
       "3  33044        telergma               AL  3607N  00621E   754  36.116667   \n",
       "4  12001         tindouf               AL  2741N  00809W   443  27.683333   \n",
       "\n",
       "   Longitude  \n",
       "0   6.650000  \n",
       "1   0.583333  \n",
       "2   3.216667  \n",
       "3   6.416667  \n",
       "4  -8.083333  "
      ]
     },
     "execution_count": 70,
     "metadata": {},
     "output_type": "execute_result"
    }
   ],
   "source": [
    "Wstat.head()"
   ]
  },
  {
   "cell_type": "code",
   "execution_count": 71,
   "id": "6584d887",
   "metadata": {},
   "outputs": [
    {
     "data": {
      "text/plain": [
       "array(['AL', 'AT', 'AU', 'AZ', 'BA', 'BE', 'BN', 'BR', 'BZ', 'CS', 'CT',\n",
       "       'CU', 'DR', 'DY', 'EG', 'EQ', 'ER', 'ET', 'FJ', 'FR', 'GH', 'GL',\n",
       "       'GR', 'GU', 'GY', 'HA', 'HI', 'IL', 'IN', 'IQ', 'IR', 'IY', 'JM',\n",
       "       'JP', 'KO', 'KU', 'LC', 'LI', 'LY', 'MC', 'MT', 'NG', 'NH', 'NI',\n",
       "       'NK', 'NU', 'NZ', 'OM', 'PF', 'PH', 'PI', 'PK', 'PM', 'PQ', 'PR',\n",
       "       'SG', 'SO', 'SP', 'TD', 'TI', 'TO', 'TS', 'TU', 'UK'], dtype=object)"
      ]
     },
     "execution_count": 71,
     "metadata": {},
     "output_type": "execute_result"
    }
   ],
   "source": [
    "Wstat['STATE/COUNTRY ID'].unique()"
   ]
  },
  {
   "cell_type": "code",
   "execution_count": 72,
   "id": "3331d047",
   "metadata": {},
   "outputs": [
    {
     "data": {
      "text/plain": [
       "0         10001\n",
       "1         10001\n",
       "2         10001\n",
       "3         10001\n",
       "4         10001\n",
       "          ...  \n",
       "119035    82506\n",
       "119036    82506\n",
       "119037    82506\n",
       "119038    82506\n",
       "119039    82506\n",
       "Name: STA, Length: 118996, dtype: int64"
      ]
     },
     "execution_count": 72,
     "metadata": {},
     "output_type": "execute_result"
    }
   ],
   "source": [
    "Wsum.STA"
   ]
  },
  {
   "cell_type": "code",
   "execution_count": 73,
   "id": "5ffa3764",
   "metadata": {},
   "outputs": [],
   "source": [
    "Wsum.to_csv('../Datasets/Summary_modified.csv')"
   ]
  },
  {
   "cell_type": "code",
   "execution_count": 75,
   "id": "b839e498",
   "metadata": {},
   "outputs": [
    {
     "data": {
      "text/plain": [
       "Year\n",
       "1940    28.643374\n",
       "1941    26.040898\n",
       "1942    24.253492\n",
       "1943    27.533621\n",
       "1944    27.301928\n",
       "1945    27.199395\n",
       "Name: MaxTemp, dtype: float64"
      ]
     },
     "execution_count": 75,
     "metadata": {},
     "output_type": "execute_result"
    }
   ],
   "source": [
    "Wsum.groupby('Year').MaxTemp.agg('mean')"
   ]
  },
  {
   "cell_type": "code",
   "execution_count": 76,
   "id": "04394f76",
   "metadata": {},
   "outputs": [
    {
     "data": {
      "text/plain": [
       "Year\n",
       "1940    20.580737\n",
       "1941    18.670987\n",
       "1942    16.637207\n",
       "1943    18.263540\n",
       "1944    17.783003\n",
       "1945    17.606836\n",
       "Name: MinTemp, dtype: float64"
      ]
     },
     "execution_count": 76,
     "metadata": {},
     "output_type": "execute_result"
    }
   ],
   "source": [
    "Wsum.groupby('Year').MinTemp.agg('mean')"
   ]
  },
  {
   "cell_type": "code",
   "execution_count": 77,
   "id": "a4e43c09",
   "metadata": {},
   "outputs": [
    {
     "data": {
      "text/plain": [
       "Year\n",
       "1940    24.616934\n",
       "1941    22.361530\n",
       "1942    20.409443\n",
       "1943    22.893026\n",
       "1944    22.544667\n",
       "1945    22.395374\n",
       "Name: MeanTemp, dtype: float64"
      ]
     },
     "execution_count": 77,
     "metadata": {},
     "output_type": "execute_result"
    }
   ],
   "source": [
    "Wsum.groupby('Year').MeanTemp.agg('mean')"
   ]
  },
  {
   "cell_type": "code",
   "execution_count": 78,
   "id": "d7517037",
   "metadata": {},
   "outputs": [
    {
     "data": {
      "text/plain": [
       "Year  Month\n",
       "1940  1        27.174432\n",
       "      2        27.199074\n",
       "      3        27.795699\n",
       "      4        28.407407\n",
       "      5        28.716846\n",
       "                 ...    \n",
       "1945  8        30.239131\n",
       "      9        29.225452\n",
       "      10       26.798229\n",
       "      11       24.827868\n",
       "      12       22.713625\n",
       "Name: MaxTemp, Length: 72, dtype: float64"
      ]
     },
     "execution_count": 78,
     "metadata": {},
     "output_type": "execute_result"
    }
   ],
   "source": [
    "Wsum.groupby(['Year', 'Month']).MaxTemp.agg('mean')"
   ]
  },
  {
   "cell_type": "code",
   "execution_count": 79,
   "id": "162eaa74",
   "metadata": {},
   "outputs": [
    {
     "data": {
      "text/plain": [
       "Year  Month\n",
       "1940  1        18.291517\n",
       "      2        17.928241\n",
       "      3        17.824373\n",
       "      4        19.737037\n",
       "      5        20.770609\n",
       "                 ...    \n",
       "1945  8        21.168948\n",
       "      9        20.214463\n",
       "      10       17.700930\n",
       "      11       15.989758\n",
       "      12       14.080482\n",
       "Name: MinTemp, Length: 72, dtype: float64"
      ]
     },
     "execution_count": 79,
     "metadata": {},
     "output_type": "execute_result"
    }
   ],
   "source": [
    "Wsum.groupby(['Year', 'Month']).MinTemp.agg('mean')"
   ]
  },
  {
   "cell_type": "code",
   "execution_count": 80,
   "id": "7fc33e4c",
   "metadata": {},
   "outputs": [
    {
     "data": {
      "text/plain": [
       "Year  Month\n",
       "1940  1        22.718041\n",
       "      2        22.557870\n",
       "      3        22.788530\n",
       "      4        24.081481\n",
       "      5        24.770609\n",
       "                 ...    \n",
       "1945  8        25.709965\n",
       "      9        24.663043\n",
       "      10       22.250502\n",
       "      11       20.415268\n",
       "      12       18.399646\n",
       "Name: MeanTemp, Length: 72, dtype: float64"
      ]
     },
     "execution_count": 80,
     "metadata": {},
     "output_type": "execute_result"
    }
   ],
   "source": [
    "Wsum.groupby(['Year', 'Month']).MeanTemp.agg('mean')"
   ]
  },
  {
   "cell_type": "code",
   "execution_count": null,
   "id": "4b89073e",
   "metadata": {},
   "outputs": [],
   "source": []
  }
 ],
 "metadata": {
  "kernelspec": {
   "display_name": "Python 3 (ipykernel)",
   "language": "python",
   "name": "python3"
  },
  "language_info": {
   "codemirror_mode": {
    "name": "ipython",
    "version": 3
   },
   "file_extension": ".py",
   "mimetype": "text/x-python",
   "name": "python",
   "nbconvert_exporter": "python",
   "pygments_lexer": "ipython3",
   "version": "3.10.5"
  }
 },
 "nbformat": 4,
 "nbformat_minor": 5
}
