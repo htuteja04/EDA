{
 "cells": [
  {
   "cell_type": "code",
   "execution_count": 1,
   "id": "13790d58",
   "metadata": {},
   "outputs": [],
   "source": [
    "import pandas as pd"
   ]
  },
  {
   "cell_type": "code",
   "execution_count": 2,
   "id": "ec642d1d",
   "metadata": {},
   "outputs": [],
   "source": [
    "main = pd.read_csv('../Datasets/Population_India/india_population.csv')"
   ]
  },
  {
   "cell_type": "code",
   "execution_count": 3,
   "id": "67f38e96",
   "metadata": {},
   "outputs": [
    {
     "data": {
      "text/html": [
       "<div>\n",
       "<style scoped>\n",
       "    .dataframe tbody tr th:only-of-type {\n",
       "        vertical-align: middle;\n",
       "    }\n",
       "\n",
       "    .dataframe tbody tr th {\n",
       "        vertical-align: top;\n",
       "    }\n",
       "\n",
       "    .dataframe thead th {\n",
       "        text-align: right;\n",
       "    }\n",
       "</style>\n",
       "<table border=\"1\" class=\"dataframe\">\n",
       "  <thead>\n",
       "    <tr style=\"text-align: right;\">\n",
       "      <th></th>\n",
       "      <th>Year</th>\n",
       "      <th>Population</th>\n",
       "      <th>Yearly % Change</th>\n",
       "      <th>Yearly Change</th>\n",
       "      <th>Migrants (net)</th>\n",
       "      <th>Median Age</th>\n",
       "      <th>Fertility Rate</th>\n",
       "      <th>Density (P/Km²)</th>\n",
       "      <th>Urban Pop %</th>\n",
       "      <th>Urban Population</th>\n",
       "      <th>Country's Share of World Pop</th>\n",
       "      <th>World Population</th>\n",
       "      <th>India Global Rank</th>\n",
       "    </tr>\n",
       "  </thead>\n",
       "  <tbody>\n",
       "    <tr>\n",
       "      <th>0</th>\n",
       "      <td>2020</td>\n",
       "      <td>1380004385</td>\n",
       "      <td>0.99</td>\n",
       "      <td>13586631</td>\n",
       "      <td>-532687</td>\n",
       "      <td>28.4</td>\n",
       "      <td>2.24</td>\n",
       "      <td>464</td>\n",
       "      <td>35.0</td>\n",
       "      <td>483098640</td>\n",
       "      <td>17.70</td>\n",
       "      <td>7794798739</td>\n",
       "      <td>2</td>\n",
       "    </tr>\n",
       "    <tr>\n",
       "      <th>1</th>\n",
       "      <td>2019</td>\n",
       "      <td>1366417754</td>\n",
       "      <td>1.02</td>\n",
       "      <td>13775474</td>\n",
       "      <td>-532687</td>\n",
       "      <td>27.1</td>\n",
       "      <td>2.36</td>\n",
       "      <td>460</td>\n",
       "      <td>34.5</td>\n",
       "      <td>471828295</td>\n",
       "      <td>17.71</td>\n",
       "      <td>7713468100</td>\n",
       "      <td>2</td>\n",
       "    </tr>\n",
       "    <tr>\n",
       "      <th>2</th>\n",
       "      <td>2018</td>\n",
       "      <td>1352642280</td>\n",
       "      <td>1.04</td>\n",
       "      <td>13965495</td>\n",
       "      <td>-532687</td>\n",
       "      <td>27.1</td>\n",
       "      <td>2.36</td>\n",
       "      <td>455</td>\n",
       "      <td>34.1</td>\n",
       "      <td>460779764</td>\n",
       "      <td>17.73</td>\n",
       "      <td>7631091040</td>\n",
       "      <td>2</td>\n",
       "    </tr>\n",
       "    <tr>\n",
       "      <th>3</th>\n",
       "      <td>2017</td>\n",
       "      <td>1338676785</td>\n",
       "      <td>1.07</td>\n",
       "      <td>14159536</td>\n",
       "      <td>-532687</td>\n",
       "      <td>27.1</td>\n",
       "      <td>2.36</td>\n",
       "      <td>450</td>\n",
       "      <td>33.6</td>\n",
       "      <td>449963381</td>\n",
       "      <td>17.74</td>\n",
       "      <td>7547858925</td>\n",
       "      <td>2</td>\n",
       "    </tr>\n",
       "    <tr>\n",
       "      <th>4</th>\n",
       "      <td>2016</td>\n",
       "      <td>1324517249</td>\n",
       "      <td>1.10</td>\n",
       "      <td>14364846</td>\n",
       "      <td>-532687</td>\n",
       "      <td>27.1</td>\n",
       "      <td>2.36</td>\n",
       "      <td>445</td>\n",
       "      <td>33.2</td>\n",
       "      <td>439391699</td>\n",
       "      <td>17.75</td>\n",
       "      <td>7464022049</td>\n",
       "      <td>2</td>\n",
       "    </tr>\n",
       "  </tbody>\n",
       "</table>\n",
       "</div>"
      ],
      "text/plain": [
       "   Year  Population  Yearly % Change  Yearly Change  Migrants (net)  \\\n",
       "0  2020  1380004385             0.99       13586631         -532687   \n",
       "1  2019  1366417754             1.02       13775474         -532687   \n",
       "2  2018  1352642280             1.04       13965495         -532687   \n",
       "3  2017  1338676785             1.07       14159536         -532687   \n",
       "4  2016  1324517249             1.10       14364846         -532687   \n",
       "\n",
       "   Median Age  Fertility Rate  Density (P/Km²)  Urban Pop %  Urban Population  \\\n",
       "0        28.4            2.24              464         35.0         483098640   \n",
       "1        27.1            2.36              460         34.5         471828295   \n",
       "2        27.1            2.36              455         34.1         460779764   \n",
       "3        27.1            2.36              450         33.6         449963381   \n",
       "4        27.1            2.36              445         33.2         439391699   \n",
       "\n",
       "   Country's Share of World Pop  World Population  India Global Rank  \n",
       "0                         17.70        7794798739                  2  \n",
       "1                         17.71        7713468100                  2  \n",
       "2                         17.73        7631091040                  2  \n",
       "3                         17.74        7547858925                  2  \n",
       "4                         17.75        7464022049                  2  "
      ]
     },
     "execution_count": 3,
     "metadata": {},
     "output_type": "execute_result"
    }
   ],
   "source": [
    "main.head()"
   ]
  },
  {
   "cell_type": "code",
   "execution_count": 4,
   "id": "74b65b63",
   "metadata": {},
   "outputs": [
    {
     "data": {
      "text/plain": [
       "Index(['Year', 'Population', 'Yearly % Change', 'Yearly Change',\n",
       "       'Migrants (net)', 'Median Age', 'Fertility Rate', 'Density (P/Km²)',\n",
       "       'Urban Pop %', 'Urban Population', 'Country's Share of World Pop',\n",
       "       'World Population', 'India Global Rank'],\n",
       "      dtype='object')"
      ]
     },
     "execution_count": 4,
     "metadata": {},
     "output_type": "execute_result"
    }
   ],
   "source": [
    "main.columns"
   ]
  },
  {
   "cell_type": "code",
   "execution_count": 5,
   "id": "a8a37fad",
   "metadata": {},
   "outputs": [
    {
     "data": {
      "text/plain": [
       "Year                            0\n",
       "Population                      0\n",
       "Yearly % Change                 0\n",
       "Yearly Change                   0\n",
       "Migrants (net)                  0\n",
       "Median Age                      0\n",
       "Fertility Rate                  0\n",
       "Density (P/Km²)                 0\n",
       "Urban Pop %                     0\n",
       "Urban Population                0\n",
       "Country's Share of World Pop    0\n",
       "World Population                0\n",
       "India Global Rank               0\n",
       "dtype: int64"
      ]
     },
     "execution_count": 5,
     "metadata": {},
     "output_type": "execute_result"
    }
   ],
   "source": [
    "main.isna().sum()"
   ]
  },
  {
   "cell_type": "code",
   "execution_count": null,
   "id": "b3975b17",
   "metadata": {},
   "outputs": [],
   "source": []
  }
 ],
 "metadata": {
  "kernelspec": {
   "display_name": "Python 3 (ipykernel)",
   "language": "python",
   "name": "python3"
  },
  "language_info": {
   "codemirror_mode": {
    "name": "ipython",
    "version": 3
   },
   "file_extension": ".py",
   "mimetype": "text/x-python",
   "name": "python",
   "nbconvert_exporter": "python",
   "pygments_lexer": "ipython3",
   "version": "3.10.5"
  }
 },
 "nbformat": 4,
 "nbformat_minor": 5
}
